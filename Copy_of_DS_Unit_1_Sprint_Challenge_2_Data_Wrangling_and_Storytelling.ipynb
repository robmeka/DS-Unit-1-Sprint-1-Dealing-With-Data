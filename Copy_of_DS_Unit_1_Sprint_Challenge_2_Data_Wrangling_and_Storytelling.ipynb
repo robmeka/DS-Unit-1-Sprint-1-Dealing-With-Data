{
  "nbformat": 4,
  "nbformat_minor": 0,
  "metadata": {
    "colab": {
      "name": "Copy of DS_Unit_1_Sprint_Challenge_2_Data_Wrangling_and_Storytelling.ipynb",
      "provenance": [],
      "collapsed_sections": [],
      "include_colab_link": true
    },
    "language_info": {
      "codemirror_mode": {
        "name": "ipython",
        "version": 3
      },
      "file_extension": ".py",
      "mimetype": "text/x-python",
      "name": "python",
      "nbconvert_exporter": "python",
      "pygments_lexer": "ipython3",
      "version": "3.7.1"
    },
    "kernelspec": {
      "display_name": "Python 3",
      "language": "python",
      "name": "python3"
    }
  },
  "cells": [
    {
      "cell_type": "markdown",
      "metadata": {
        "id": "view-in-github",
        "colab_type": "text"
      },
      "source": [
        "<a href=\"https://colab.research.google.com/github/robmeka/DS-Unit-1-Sprint-1-Dealing-With-Data/blob/master/Copy_of_DS_Unit_1_Sprint_Challenge_2_Data_Wrangling_and_Storytelling.ipynb\" target=\"_parent\"><img src=\"https://colab.research.google.com/assets/colab-badge.svg\" alt=\"Open In Colab\"/></a>"
      ]
    },
    {
      "cell_type": "markdown",
      "metadata": {
        "colab_type": "text",
        "id": "4yMHi_PX9hEz"
      },
      "source": [
        "# Data Science Unit 1 Sprint Challenge 2\n",
        "\n",
        "## Data Wrangling and Storytelling\n",
        "\n",
        "Taming data from its raw form into informative insights and stories."
      ]
    },
    {
      "cell_type": "markdown",
      "metadata": {
        "id": "9wIvtOss9H_i",
        "colab_type": "text"
      },
      "source": [
        "## Data Wrangling\n",
        "\n",
        "In this Sprint Challenge you will first \"wrangle\" some data from [Gapminder](https://www.gapminder.org/about-gapminder/), a Swedish non-profit co-founded by Hans Rosling. \"Gapminder produces free teaching resources making the world understandable based on reliable statistics.\"\n",
        "- [Cell phones (total), by country and year](https://raw.githubusercontent.com/open-numbers/ddf--gapminder--systema_globalis/master/ddf--datapoints--cell_phones_total--by--geo--time.csv)\n",
        "- [Population (total), by country and year](https://raw.githubusercontent.com/open-numbers/ddf--gapminder--systema_globalis/master/ddf--datapoints--population_total--by--geo--time.csv)\n",
        "- [Geo country codes](https://github.com/open-numbers/ddf--gapminder--systema_globalis/blob/master/ddf--entities--geo--country.csv)\n",
        "\n",
        "These two links have everything you need to successfully complete the first part of this sprint challenge.\n",
        "- [Pandas documentation: Working with Text Data](https://pandas.pydata.org/pandas-docs/stable/text.html) (one question)\n",
        "- [Pandas Cheat Sheet](https://github.com/pandas-dev/pandas/blob/master/doc/cheatsheet/Pandas_Cheat_Sheet.pdf) (everything else)"
      ]
    },
    {
      "cell_type": "markdown",
      "metadata": {
        "colab_type": "text",
        "id": "wWEU2GemX68A"
      },
      "source": [
        "### Part 0. Load data\n",
        "\n",
        "You don't need to add or change anything here. Just run this cell and it loads the data for you, into three dataframes."
      ]
    },
    {
      "cell_type": "code",
      "metadata": {
        "colab_type": "code",
        "id": "bxKtSi5sRQOl",
        "colab": {}
      },
      "source": [
        "import pandas as pd\n",
        "\n",
        "cell_phones = pd.read_csv('https://raw.githubusercontent.com/open-numbers/ddf--gapminder--systema_globalis/master/ddf--datapoints--cell_phones_total--by--geo--time.csv')\n",
        "\n",
        "population = pd.read_csv('https://raw.githubusercontent.com/open-numbers/ddf--gapminder--systema_globalis/master/ddf--datapoints--population_total--by--geo--time.csv')\n",
        "\n",
        "geo_country_codes = (pd.read_csv('https://raw.githubusercontent.com/open-numbers/ddf--gapminder--systema_globalis/master/ddf--entities--geo--country.csv')\n",
        "                       .rename(columns={'country': 'geo', 'name': 'country'}))"
      ],
      "execution_count": 0,
      "outputs": []
    },
    {
      "cell_type": "markdown",
      "metadata": {
        "colab_type": "text",
        "id": "AZmVTeCsX9RC"
      },
      "source": [
        "### Part 1. Join data"
      ]
    },
    {
      "cell_type": "markdown",
      "metadata": {
        "colab_type": "text",
        "id": "GLzX58u4SfEy"
      },
      "source": [
        "First, join the `cell_phones` and `population` dataframes (with an inner join on `geo` and `time`).\n",
        "\n",
        "The resulting dataframe's shape should be: (8590, 4)"
      ]
    },
    {
      "cell_type": "code",
      "metadata": {
        "colab_type": "code",
        "id": "GVV7Hnj4SXBa",
        "outputId": "5214a890-a381-45e5-915c-4ec56ba2aa8c",
        "colab": {
          "base_uri": "https://localhost:8080/",
          "height": 1000
        }
      },
      "source": [
        "import pandas as pd\n",
        "url='https://raw.githubusercontent.com/open-numbers/ddf--gapminder--systema_globalis/master/ddf--datapoints--cell_phones_total--by--geo--time.csv'\n",
        "c=pd.read_csv(url)\n",
        "print(c)"
      ],
      "execution_count": 0,
      "outputs": [
        {
          "output_type": "stream",
          "text": [
            "      geo  time  cell_phones_total\n",
            "0     abw  1960                0.0\n",
            "1     abw  1965                0.0\n",
            "2     abw  1970                0.0\n",
            "3     abw  1975                0.0\n",
            "4     abw  1976                0.0\n",
            "5     abw  1977                0.0\n",
            "6     abw  1978                0.0\n",
            "7     abw  1979                0.0\n",
            "8     abw  1980                0.0\n",
            "9     abw  1981                0.0\n",
            "10    abw  1982                0.0\n",
            "11    abw  1983                0.0\n",
            "12    abw  1984                0.0\n",
            "13    abw  1985                0.0\n",
            "14    abw  1986                0.0\n",
            "15    abw  1987                0.0\n",
            "16    abw  1988                0.0\n",
            "17    abw  1989                0.0\n",
            "18    abw  1990                0.0\n",
            "19    abw  1991                0.0\n",
            "20    abw  1992               20.0\n",
            "21    abw  1995             1718.0\n",
            "22    abw  1996             3000.0\n",
            "23    abw  1997             3402.0\n",
            "24    abw  1998             5380.0\n",
            "25    abw  1999            12000.0\n",
            "26    abw  2000            15000.0\n",
            "27    abw  2001            53000.0\n",
            "28    abw  2002            61800.0\n",
            "29    abw  2003            69952.0\n",
            "...   ...   ...                ...\n",
            "9185  zwe  1988                0.0\n",
            "9186  zwe  1989                0.0\n",
            "9187  zwe  1990                0.0\n",
            "9188  zwe  1991                0.0\n",
            "9189  zwe  1992                0.0\n",
            "9190  zwe  1993                0.0\n",
            "9191  zwe  1994                0.0\n",
            "9192  zwe  1995                0.0\n",
            "9193  zwe  1996                0.0\n",
            "9194  zwe  1997             5734.0\n",
            "9195  zwe  1998            19000.0\n",
            "9196  zwe  1999           174000.0\n",
            "9197  zwe  2000           266441.0\n",
            "9198  zwe  2001           314002.0\n",
            "9199  zwe  2002           338779.0\n",
            "9200  zwe  2003           363651.0\n",
            "9201  zwe  2004           425745.0\n",
            "9202  zwe  2005           647110.0\n",
            "9203  zwe  2006           849146.0\n",
            "9204  zwe  2007          1225654.0\n",
            "9205  zwe  2008          1654721.0\n",
            "9206  zwe  2009          3991000.0\n",
            "9207  zwe  2010          7700000.0\n",
            "9208  zwe  2011          9200000.0\n",
            "9209  zwe  2012         12613935.0\n",
            "9210  zwe  2013         13633167.0\n",
            "9211  zwe  2014         11798652.0\n",
            "9212  zwe  2015         12757410.0\n",
            "9213  zwe  2016         12878926.0\n",
            "9214  zwe  2017         14092104.0\n",
            "\n",
            "[9215 rows x 3 columns]\n"
          ],
          "name": "stdout"
        }
      ]
    },
    {
      "cell_type": "markdown",
      "metadata": {
        "colab_type": "text",
        "id": "xsXpDbwwW241"
      },
      "source": [
        "Then, select the `geo` and `country` columns from the `geo_country_codes` dataframe, and join with your population and cell phone data.\n",
        "\n",
        "The resulting dataframe's shape should be: (8590, 5)"
      ]
    },
    {
      "cell_type": "code",
      "metadata": {
        "id": "zcti1_cqmv3n",
        "colab_type": "code",
        "outputId": "4e4ea24d-dcd5-47f1-da32-f899558955c0",
        "colab": {
          "base_uri": "https://localhost:8080/",
          "height": 129
        }
      },
      "source": [
        ">>> column=([1,2,3,4,5,-30   9185,-5, 7, -9215]"
      ],
      "execution_count": 0,
      "outputs": [
        {
          "output_type": "error",
          "ename": "SyntaxError",
          "evalue": "ignored",
          "traceback": [
            "\u001b[0;36m  File \u001b[0;32m\"<ipython-input-4-5f27d94847b5>\"\u001b[0;36m, line \u001b[0;32m1\u001b[0m\n\u001b[0;31m    column=([1,2,3,4,5,-30   9185,-5, 7, -9215]\u001b[0m\n\u001b[0m                                ^\u001b[0m\n\u001b[0;31mSyntaxError\u001b[0m\u001b[0;31m:\u001b[0m invalid syntax\n"
          ]
        }
      ]
    },
    {
      "cell_type": "code",
      "metadata": {
        "id": "ImMtwOe4huY-",
        "colab_type": "code",
        "outputId": "5f2af8b3-862e-442f-e054-88a93557e7b6",
        "colab": {
          "base_uri": "https://localhost:8080/",
          "height": 1000
        }
      },
      "source": [
        "import pandas as pd\n",
        "url='https://raw.githubusercontent.com/open-numbers/ddf--gapminder--systema_globalis/master/ddf--entities--geo--country.csv'\n",
        "d=pd.read_csv(url)\n",
        "print(d)"
      ],
      "execution_count": 0,
      "outputs": [
        {
          "output_type": "stream",
          "text": [
            "               country   alt_5  ... world_4region             world_6region\n",
            "0                 abkh     NaN  ...        europe       europe_central_asia\n",
            "1                  abw     NaN  ...      americas                   america\n",
            "2                  afg     NaN  ...          asia                south_asia\n",
            "3                  ago     NaN  ...        africa        sub_saharan_africa\n",
            "4                  aia     NaN  ...      americas                   america\n",
            "5            akr_a_dhe     NaN  ...        europe       europe_central_asia\n",
            "6                  ala     NaN  ...        europe       europe_central_asia\n",
            "7                  alb     NaN  ...        europe       europe_central_asia\n",
            "8                  and     NaN  ...        europe       europe_central_asia\n",
            "9                  ant     NaN  ...      americas                   america\n",
            "10                 are     NaN  ...          asia  middle_east_north_africa\n",
            "11                 arg     NaN  ...      americas                   america\n",
            "12                 arm     NaN  ...        europe       europe_central_asia\n",
            "13                 asm     NaN  ...          asia         east_asia_pacific\n",
            "14                 ata     NaN  ...        europe                       NaN\n",
            "15                 atg     NaN  ...      americas                   america\n",
            "16                 aus     NaN  ...          asia         east_asia_pacific\n",
            "17                 aut     NaN  ...        europe       europe_central_asia\n",
            "18                 aze     NaN  ...        europe       europe_central_asia\n",
            "19                 bdi     NaN  ...        africa        sub_saharan_africa\n",
            "20                 bel     NaN  ...        europe       europe_central_asia\n",
            "21                 ben     NaN  ...        africa        sub_saharan_africa\n",
            "22                 bfa     NaN  ...        africa        sub_saharan_africa\n",
            "23                 bgd     NaN  ...          asia                south_asia\n",
            "24                 bgr     NaN  ...        europe       europe_central_asia\n",
            "25                 bhr     NaN  ...          asia  middle_east_north_africa\n",
            "26                 bhs     NaN  ...      americas                   america\n",
            "27                 bih  Bosnia  ...        europe       europe_central_asia\n",
            "28                 blr     NaN  ...        europe       europe_central_asia\n",
            "29                 blz     NaN  ...      americas                   america\n",
            "..                 ...     ...  ...           ...                       ...\n",
            "243                ton     NaN  ...          asia         east_asia_pacific\n",
            "244             transn     NaN  ...        europe       europe_central_asia\n",
            "245                tto     NaN  ...      americas                   america\n",
            "246                tun     NaN  ...        africa  middle_east_north_africa\n",
            "247                tur     NaN  ...        europe       europe_central_asia\n",
            "248                tuv     NaN  ...          asia         east_asia_pacific\n",
            "249                twn     NaN  ...          asia         east_asia_pacific\n",
            "250                tza     NaN  ...        africa        sub_saharan_africa\n",
            "251                uga     NaN  ...        africa        sub_saharan_africa\n",
            "252                ukr     NaN  ...        europe       europe_central_asia\n",
            "253                ury     NaN  ...      americas                   america\n",
            "254                usa    U.S.  ...      americas                   america\n",
            "255  usa_minor_out_isl     NaN  ...      americas                       NaN\n",
            "256               ussr     NaN  ...        europe       europe_central_asia\n",
            "257                uzb     NaN  ...          asia       europe_central_asia\n",
            "258                vct     NaN  ...      americas                   america\n",
            "259                ven     NaN  ...      americas                   america\n",
            "260                vgb     NaN  ...      americas                   america\n",
            "261                vir     NaN  ...      americas                   america\n",
            "262                vnm     NaN  ...          asia         east_asia_pacific\n",
            "263                vut     NaN  ...          asia         east_asia_pacific\n",
            "264                wlf     NaN  ...          asia         east_asia_pacific\n",
            "265                wsm     NaN  ...          asia         east_asia_pacific\n",
            "266                yem     NaN  ...          asia  middle_east_north_africa\n",
            "267          yem_north     NaN  ...          asia  middle_east_north_africa\n",
            "268          yem_south     NaN  ...          asia  middle_east_north_africa\n",
            "269                yug     NaN  ...        europe       europe_central_asia\n",
            "270                zaf     NaN  ...        africa        sub_saharan_africa\n",
            "271                zmb     NaN  ...        africa        sub_saharan_africa\n",
            "272                zwe     NaN  ...        africa        sub_saharan_africa\n",
            "\n",
            "[273 rows x 33 columns]\n"
          ],
          "name": "stdout"
        }
      ]
    },
    {
      "cell_type": "code",
      "metadata": {
        "id": "KTwx0-WdxcYN",
        "colab_type": "code",
        "outputId": "e9831d3b-da35-487f-9b59-c468092734cc",
        "colab": {
          "base_uri": "https://localhost:8080/",
          "height": 129
        }
      },
      "source": [
        "result = pd.merge(row, country, country, region\n",
        "                 "
      ],
      "execution_count": 0,
      "outputs": [
        {
          "output_type": "error",
          "ename": "SyntaxError",
          "evalue": "ignored",
          "traceback": [
            "\u001b[0;36m  File \u001b[0;32m\"<ipython-input-7-73c294390d14>\"\u001b[0;36m, line \u001b[0;32m2\u001b[0m\n\u001b[0;31m    \u001b[0m\n\u001b[0m    ^\u001b[0m\n\u001b[0;31mSyntaxError\u001b[0m\u001b[0;31m:\u001b[0m unexpected EOF while parsing\n"
          ]
        }
      ]
    },
    {
      "cell_type": "code",
      "metadata": {
        "id": "hwUqYww9xcAu",
        "colab_type": "code",
        "colab": {}
      },
      "source": [
        ""
      ],
      "execution_count": 0,
      "outputs": []
    },
    {
      "cell_type": "code",
      "metadata": {
        "id": "WyKv9lM6xbfB",
        "colab_type": "code",
        "colab": {}
      },
      "source": [
        ""
      ],
      "execution_count": 0,
      "outputs": []
    },
    {
      "cell_type": "code",
      "metadata": {
        "id": "zlE7fTLjmqps",
        "colab_type": "code",
        "outputId": "c74466d7-75ec-4163-d391-cab80ccfe4b5",
        "colab": {
          "base_uri": "https://localhost:8080/",
          "height": 163
        }
      },
      "source": [
        "dataframe.isnull()"
      ],
      "execution_count": 0,
      "outputs": [
        {
          "output_type": "error",
          "ename": "NameError",
          "evalue": "ignored",
          "traceback": [
            "\u001b[0;31m---------------------------------------------------------------------------\u001b[0m",
            "\u001b[0;31mNameError\u001b[0m                                 Traceback (most recent call last)",
            "\u001b[0;32m<ipython-input-9-bb8d4edfeb29>\u001b[0m in \u001b[0;36m<module>\u001b[0;34m()\u001b[0m\n\u001b[0;32m----> 1\u001b[0;31m \u001b[0mdataframe\u001b[0m\u001b[0;34m.\u001b[0m\u001b[0misnull\u001b[0m\u001b[0;34m(\u001b[0m\u001b[0;34m)\u001b[0m\u001b[0;34m\u001b[0m\u001b[0;34m\u001b[0m\u001b[0m\n\u001b[0m",
            "\u001b[0;31mNameError\u001b[0m: name 'dataframe' is not defined"
          ]
        }
      ]
    },
    {
      "cell_type": "code",
      "metadata": {
        "id": "ayJK5e3cJLkw",
        "colab_type": "code",
        "outputId": "32d8b261-1c8e-488f-aa40-513fc002d0bd",
        "colab": {
          "base_uri": "https://localhost:8080/",
          "height": 129
        }
      },
      "source": [
        "df1 = pd.DataFrame({'geo': 'time', 'total']                   'group': ['geo', 'time', 'cellphones,total']})\n",
        "df2 = pd.DataFrame(group': ['state', 'county', 'region']})"
      ],
      "execution_count": 0,
      "outputs": [
        {
          "output_type": "error",
          "ename": "SyntaxError",
          "evalue": "ignored",
          "traceback": [
            "\u001b[0;36m  File \u001b[0;32m\"<ipython-input-10-48ff78f1dfeb>\"\u001b[0;36m, line \u001b[0;32m1\u001b[0m\n\u001b[0;31m    df1 = pd.DataFrame({'geo': 'time', 'total']                   'group': ['geo', 'time', 'cellphones,total']})\u001b[0m\n\u001b[0m                                              ^\u001b[0m\n\u001b[0;31mSyntaxError\u001b[0m\u001b[0;31m:\u001b[0m invalid syntax\n"
          ]
        }
      ]
    },
    {
      "cell_type": "code",
      "metadata": {
        "id": "MKApbYnTPpkg",
        "colab_type": "code",
        "outputId": "e02f94e8-e10e-40bd-8f6c-9b4c99fc77f8",
        "colab": {
          "base_uri": "https://localhost:8080/",
          "height": 163
        }
      },
      "source": [
        "series.isna(self)"
      ],
      "execution_count": 0,
      "outputs": [
        {
          "output_type": "error",
          "ename": "NameError",
          "evalue": "ignored",
          "traceback": [
            "\u001b[0;31m---------------------------------------------------------------------------\u001b[0m",
            "\u001b[0;31mNameError\u001b[0m                                 Traceback (most recent call last)",
            "\u001b[0;32m<ipython-input-8-0aa57d2bd008>\u001b[0m in \u001b[0;36m<module>\u001b[0;34m()\u001b[0m\n\u001b[0;32m----> 1\u001b[0;31m \u001b[0mseries\u001b[0m\u001b[0;34m.\u001b[0m\u001b[0misna\u001b[0m\u001b[0;34m(\u001b[0m\u001b[0mself\u001b[0m\u001b[0;34m)\u001b[0m\u001b[0;34m\u001b[0m\u001b[0;34m\u001b[0m\u001b[0m\n\u001b[0m",
            "\u001b[0;31mNameError\u001b[0m: name 'series' is not defined"
          ]
        }
      ]
    },
    {
      "cell_type": "code",
      "metadata": {
        "id": "souJxgZyPpc6",
        "colab_type": "code",
        "colab": {}
      },
      "source": [
        ""
      ],
      "execution_count": 0,
      "outputs": []
    },
    {
      "cell_type": "code",
      "metadata": {
        "colab_type": "code",
        "id": "Q2LaZta_W2CE",
        "outputId": "3665df44-53b5-4341-f57d-5771ff597859",
        "colab": {
          "base_uri": "https://localhost:8080/",
          "height": 1000
        }
      },
      "source": [
        "d=pd.read_csv('https://raw.githubusercontent.com/open-numbers/ddf--gapminder--systema_globalis/master/ddf--datapoints--population_total--by--geo--time.csv')\n",
        "\n",
        "print(d)\n",
        "\n",
        "\n"
      ],
      "execution_count": 0,
      "outputs": [
        {
          "output_type": "stream",
          "text": [
            "       geo  time  population_total\n",
            "0      afg  1800           3280000\n",
            "1      afg  1801           3280000\n",
            "2      afg  1802           3280000\n",
            "3      afg  1803           3280000\n",
            "4      afg  1804           3280000\n",
            "5      afg  1805           3280000\n",
            "6      afg  1806           3280000\n",
            "7      afg  1807           3280000\n",
            "8      afg  1808           3280000\n",
            "9      afg  1809           3280000\n",
            "10     afg  1810           3280000\n",
            "11     afg  1811           3280779\n",
            "12     afg  1812           3282342\n",
            "13     afg  1813           3284692\n",
            "14     afg  1814           3287834\n",
            "15     afg  1815           3291770\n",
            "16     afg  1816           3296506\n",
            "17     afg  1817           3302044\n",
            "18     afg  1818           3308390\n",
            "19     afg  1819           3315547\n",
            "20     afg  1820           3323519\n",
            "21     afg  1821           3332311\n",
            "22     afg  1822           3341926\n",
            "23     afg  1823           3352368\n",
            "24     afg  1824           3363642\n",
            "25     afg  1825           3375751\n",
            "26     afg  1826           3388701\n",
            "27     afg  1827           3402494\n",
            "28     afg  1828           3417136\n",
            "29     afg  1829           3432630\n",
            "...    ...   ...               ...\n",
            "59267  zwe  2071          36422461\n",
            "59268  zwe  2072          36674084\n",
            "59269  zwe  2073          36918818\n",
            "59270  zwe  2074          37156394\n",
            "59271  zwe  2075          37386604\n",
            "59272  zwe  2076          37609317\n",
            "59273  zwe  2077          37824533\n",
            "59274  zwe  2078          38032210\n",
            "59275  zwe  2079          38232406\n",
            "59276  zwe  2080          38425112\n",
            "59277  zwe  2081          38610322\n",
            "59278  zwe  2082          38787965\n",
            "59279  zwe  2083          38957958\n",
            "59280  zwe  2084          39120196\n",
            "59281  zwe  2085          39274605\n",
            "59282  zwe  2086          39421192\n",
            "59283  zwe  2087          39559970\n",
            "59284  zwe  2088          39691002\n",
            "59285  zwe  2089          39814374\n",
            "59286  zwe  2090          39930170\n",
            "59287  zwe  2091          40038459\n",
            "59288  zwe  2092          40139287\n",
            "59289  zwe  2093          40232710\n",
            "59290  zwe  2094          40318796\n",
            "59291  zwe  2095          40397615\n",
            "59292  zwe  2096          40469281\n",
            "59293  zwe  2097          40533896\n",
            "59294  zwe  2098          40591626\n",
            "59295  zwe  2099          40642628\n",
            "59296  zwe  2100          40687107\n",
            "\n",
            "[59297 rows x 3 columns]\n"
          ],
          "name": "stdout"
        }
      ]
    },
    {
      "cell_type": "code",
      "metadata": {
        "id": "ZxZ2ipCEG6_I",
        "colab_type": "code",
        "outputId": "6e4b659d-fa2b-4932-c09d-d6b0505002a4",
        "colab": {
          "base_uri": "https://localhost:8080/",
          "height": 163
        }
      },
      "source": [
        "df=pd. dataframe"
      ],
      "execution_count": 0,
      "outputs": [
        {
          "output_type": "error",
          "ename": "AttributeError",
          "evalue": "ignored",
          "traceback": [
            "\u001b[0;31m---------------------------------------------------------------------------\u001b[0m",
            "\u001b[0;31mAttributeError\u001b[0m                            Traceback (most recent call last)",
            "\u001b[0;32m<ipython-input-11-78490c8b8007>\u001b[0m in \u001b[0;36m<module>\u001b[0;34m()\u001b[0m\n\u001b[0;32m----> 1\u001b[0;31m \u001b[0mdf\u001b[0m\u001b[0;34m=\u001b[0m\u001b[0mpd\u001b[0m\u001b[0;34m.\u001b[0m \u001b[0mdataframe\u001b[0m\u001b[0;34m\u001b[0m\u001b[0;34m\u001b[0m\u001b[0m\n\u001b[0m",
            "\u001b[0;31mAttributeError\u001b[0m: module 'pandas' has no attribute 'dataframe'"
          ]
        }
      ]
    },
    {
      "cell_type": "code",
      "metadata": {
        "colab_type": "code",
        "id": "QW1B5-geDIdI",
        "outputId": "5d4c6e22-0c93-446b-b386-23aa479b367a",
        "colab": {
          "base_uri": "https://localhost:8080/",
          "height": 129
        }
      },
      "source": [
        "import pandas as pd\n",
        "url=https://raw.githubusercontent.com/open-numbers/ddf--gapminder--systema_globalis/master/ddf--datapoints--population_total--by--geo--time.csv'\n",
        "c=pd.read_csv(url)"
      ],
      "execution_count": 0,
      "outputs": [
        {
          "output_type": "error",
          "ename": "SyntaxError",
          "evalue": "ignored",
          "traceback": [
            "\u001b[0;36m  File \u001b[0;32m\"<ipython-input-12-79a5ff25bf39>\"\u001b[0;36m, line \u001b[0;32m2\u001b[0m\n\u001b[0;31m    url=https://raw.githubusercontent.com/open-numbers/ddf--gapminder--systema_globalis/master/ddf--datapoints--population_total--by--geo--time.csv'\u001b[0m\n\u001b[0m             ^\u001b[0m\n\u001b[0;31mSyntaxError\u001b[0m\u001b[0;31m:\u001b[0m invalid syntax\n"
          ]
        }
      ]
    },
    {
      "cell_type": "markdown",
      "metadata": {
        "colab_type": "text",
        "id": "oK96Uj7vYjFX"
      },
      "source": [
        "### Part 2. Make features"
      ]
    },
    {
      "cell_type": "markdown",
      "metadata": {
        "colab_type": "text",
        "id": "AD2fBNrOYzCG"
      },
      "source": [
        "Calculate the number of cell phones per person, and add this column onto your dataframe.\n",
        "\n",
        "(You've calculated correctly if you get 1.220 cell phones per person in the United States in 2017.)"
      ]
    },
    {
      "cell_type": "code",
      "metadata": {
        "colab_type": "code",
        "id": "wXI9nQthYnFK",
        "outputId": "10853d4e-49b4-44f5-8f29-98d492aefd61",
        "colab": {
          "base_uri": "https://localhost:8080/",
          "height": 33
        }
      },
      "source": [
        "from datetime import datetime\n",
        "datetime(year=2015, month=7, day=4)"
      ],
      "execution_count": 0,
      "outputs": [
        {
          "output_type": "execute_result",
          "data": {
            "text/plain": [
              "datetime.datetime(2015, 7, 4, 0, 0)"
            ]
          },
          "metadata": {
            "tags": []
          },
          "execution_count": 21
        }
      ]
    },
    {
      "cell_type": "markdown",
      "metadata": {
        "colab_type": "text",
        "id": "S3QFdsnRZMH6"
      },
      "source": [
        "Modify the `geo` column to make the geo codes uppercase instead of lowercase."
      ]
    },
    {
      "cell_type": "code",
      "metadata": {
        "id": "_6lTEGGd-2Xl",
        "colab_type": "code",
        "outputId": "c78bfd9a-784b-43f6-8ace-e8ce2782979d",
        "colab": {
          "base_uri": "https://localhost:8080/",
          "height": 1000
        }
      },
      "source": [
        "d=pd.read_csv('https://raw.githubusercontent.com/open-numbers/ddf--gapminder--systema_globalis/master/ddf--datapoints--population_total--by--geo--time.csv')\n",
        "\n",
        "print(d)"
      ],
      "execution_count": 0,
      "outputs": [
        {
          "output_type": "stream",
          "text": [
            "       geo  time  population_total\n",
            "0      afg  1800           3280000\n",
            "1      afg  1801           3280000\n",
            "2      afg  1802           3280000\n",
            "3      afg  1803           3280000\n",
            "4      afg  1804           3280000\n",
            "5      afg  1805           3280000\n",
            "6      afg  1806           3280000\n",
            "7      afg  1807           3280000\n",
            "8      afg  1808           3280000\n",
            "9      afg  1809           3280000\n",
            "10     afg  1810           3280000\n",
            "11     afg  1811           3280779\n",
            "12     afg  1812           3282342\n",
            "13     afg  1813           3284692\n",
            "14     afg  1814           3287834\n",
            "15     afg  1815           3291770\n",
            "16     afg  1816           3296506\n",
            "17     afg  1817           3302044\n",
            "18     afg  1818           3308390\n",
            "19     afg  1819           3315547\n",
            "20     afg  1820           3323519\n",
            "21     afg  1821           3332311\n",
            "22     afg  1822           3341926\n",
            "23     afg  1823           3352368\n",
            "24     afg  1824           3363642\n",
            "25     afg  1825           3375751\n",
            "26     afg  1826           3388701\n",
            "27     afg  1827           3402494\n",
            "28     afg  1828           3417136\n",
            "29     afg  1829           3432630\n",
            "...    ...   ...               ...\n",
            "59267  zwe  2071          36422461\n",
            "59268  zwe  2072          36674084\n",
            "59269  zwe  2073          36918818\n",
            "59270  zwe  2074          37156394\n",
            "59271  zwe  2075          37386604\n",
            "59272  zwe  2076          37609317\n",
            "59273  zwe  2077          37824533\n",
            "59274  zwe  2078          38032210\n",
            "59275  zwe  2079          38232406\n",
            "59276  zwe  2080          38425112\n",
            "59277  zwe  2081          38610322\n",
            "59278  zwe  2082          38787965\n",
            "59279  zwe  2083          38957958\n",
            "59280  zwe  2084          39120196\n",
            "59281  zwe  2085          39274605\n",
            "59282  zwe  2086          39421192\n",
            "59283  zwe  2087          39559970\n",
            "59284  zwe  2088          39691002\n",
            "59285  zwe  2089          39814374\n",
            "59286  zwe  2090          39930170\n",
            "59287  zwe  2091          40038459\n",
            "59288  zwe  2092          40139287\n",
            "59289  zwe  2093          40232710\n",
            "59290  zwe  2094          40318796\n",
            "59291  zwe  2095          40397615\n",
            "59292  zwe  2096          40469281\n",
            "59293  zwe  2097          40533896\n",
            "59294  zwe  2098          40591626\n",
            "59295  zwe  2099          40642628\n",
            "59296  zwe  2100          40687107\n",
            "\n",
            "[59297 rows x 3 columns]\n"
          ],
          "name": "stdout"
        }
      ]
    },
    {
      "cell_type": "code",
      "metadata": {
        "colab_type": "code",
        "id": "93ADij8_YkOq",
        "outputId": "0d0b933a-467c-457c-f08c-537d7eaff8c9",
        "colab": {
          "base_uri": "https://localhost:8080/",
          "height": 126
        }
      },
      "source": [
        "d=pd.read_csv('https://raw.githubusercontent.com/open-numbers/ddf--gapminder--systema_globalis/master/ddf--datapoints--population_total--by--geo--time.csv)\n",
        "print(upper,d)              "
      ],
      "execution_count": 0,
      "outputs": [
        {
          "output_type": "error",
          "ename": "SyntaxError",
          "evalue": "ignored",
          "traceback": [
            "\u001b[0;36m  File \u001b[0;32m\"<ipython-input-50-c629765ab22c>\"\u001b[0;36m, line \u001b[0;32m1\u001b[0m\n\u001b[0;31m    d=pd.read_csv('https://raw.githubusercontent.com/open-numbers/ddf--gapminder--systema_globalis/master/ddf--datapoints--population_total--by--geo--time.csv)\u001b[0m\n\u001b[0m                                                                                                                                                               ^\u001b[0m\n\u001b[0;31mSyntaxError\u001b[0m\u001b[0;31m:\u001b[0m EOL while scanning string literal\n"
          ]
        }
      ]
    },
    {
      "cell_type": "markdown",
      "metadata": {
        "colab_type": "text",
        "id": "hlPDAFCfaF6C"
      },
      "source": [
        "### Part 3. Process data"
      ]
    },
    {
      "cell_type": "markdown",
      "metadata": {
        "colab_type": "text",
        "id": "k-pudNWve2SQ"
      },
      "source": [
        "Use the describe function, to describe your dataframe's numeric columns, and then its non-numeric columns.\n",
        "\n",
        "(You'll see the time period ranges from 1960 to 2017, and there are 195 unique countries represented.)"
      ]
    },
    {
      "cell_type": "code",
      "metadata": {
        "colab_type": "code",
        "id": "g26yemKre2Cu",
        "colab": {}
      },
      "source": [
        ""
      ],
      "execution_count": 0,
      "outputs": []
    },
    {
      "cell_type": "markdown",
      "metadata": {
        "colab_type": "text",
        "id": "zALg-RrYaLcI"
      },
      "source": [
        "In 2017, what were the top 5 countries with the most cell phones total?\n",
        "\n",
        "Your list of countries should have these totals:\n",
        "\n",
        "| country | cell phones total |\n",
        "|:-------:|:-----------------:|\n",
        "|    ?    |     1,474,097,000 |\n",
        "|    ?    |     1,168,902,277 |\n",
        "|    ?    |       458,923,202 |\n",
        "|    ?    |       395,881,000 |\n",
        "|    ?    |       236,488,548 |\n",
        "\n"
      ]
    },
    {
      "cell_type": "code",
      "metadata": {
        "colab_type": "code",
        "id": "JdlWvezHaZxD",
        "colab": {}
      },
      "source": [
        "# This optional code formats float numbers with comma separators\n",
        "pd.options.display.float_format = '{:,}'.format"
      ],
      "execution_count": 0,
      "outputs": []
    },
    {
      "cell_type": "code",
      "metadata": {
        "colab_type": "code",
        "id": "smX8vzu4cyju",
        "colab": {}
      },
      "source": [
        ""
      ],
      "execution_count": 0,
      "outputs": []
    },
    {
      "cell_type": "markdown",
      "metadata": {
        "colab_type": "text",
        "id": "03V3Wln_h0dj"
      },
      "source": [
        "2017 was the first year that China had more cell phones than people.\n",
        "\n",
        "What was the first year that the USA had more cell phones than people?"
      ]
    },
    {
      "cell_type": "code",
      "metadata": {
        "colab_type": "code",
        "id": "KONQkQZ3haNC",
        "colab": {}
      },
      "source": [
        ""
      ],
      "execution_count": 0,
      "outputs": []
    },
    {
      "cell_type": "markdown",
      "metadata": {
        "colab_type": "text",
        "id": "6J7iwMnTg8KZ"
      },
      "source": [
        "### Part 4. Reshape data"
      ]
    },
    {
      "cell_type": "markdown",
      "metadata": {
        "colab_type": "text",
        "id": "LP9InazRkUxG"
      },
      "source": [
        "*This part is not needed to pass the sprint challenge, only to get a 3! Only work on this after completing the other sections.*\n",
        "\n",
        "Create a pivot table:\n",
        "- Columns: Years 2007—2017\n",
        "- Rows: China, India, United States, Indonesia, Brazil (order doesn't matter)\n",
        "- Values: Cell Phones Total\n",
        "\n",
        "The table's shape should be: (5, 11)"
      ]
    },
    {
      "cell_type": "code",
      "metadata": {
        "colab_type": "code",
        "id": "JD7mXXjLj4Ue",
        "colab": {}
      },
      "source": [
        ""
      ],
      "execution_count": 0,
      "outputs": []
    },
    {
      "cell_type": "markdown",
      "metadata": {
        "colab_type": "text",
        "id": "CNKTu2DCnAo6"
      },
      "source": [
        "Sort these 5 countries, by biggest increase in cell phones from 2007 to 2017.\n",
        "\n",
        "Which country had 935,282,277 more cell phones in 2017 versus 2007?"
      ]
    },
    {
      "cell_type": "code",
      "metadata": {
        "colab_type": "code",
        "id": "O4Aecv1fmQlj",
        "colab": {}
      },
      "source": [
        ""
      ],
      "execution_count": 0,
      "outputs": []
    },
    {
      "cell_type": "markdown",
      "metadata": {
        "colab_type": "text",
        "id": "7iHkMsa3Rorh"
      },
      "source": [
        "If you have the time and curiosity, what other questions can you ask and answer with this data?"
      ]
    },
    {
      "cell_type": "markdown",
      "metadata": {
        "id": "vtcAJOAV9k3X",
        "colab_type": "text"
      },
      "source": [
        "## Data Storytelling\n",
        "\n",
        "In this part of the sprint challenge you'll work with a dataset from **FiveThirtyEight's article, [Every Guest Jon Stewart Ever Had On ‘The Daily Show’](https://fivethirtyeight.com/features/every-guest-jon-stewart-ever-had-on-the-daily-show/)**!"
      ]
    },
    {
      "cell_type": "markdown",
      "metadata": {
        "id": "UtjoIqvm9yFg",
        "colab_type": "text"
      },
      "source": [
        "### Part 0 — Run this starter code\n",
        "\n",
        "You don't need to add or change anything here. Just run this cell and it loads the data for you, into a dataframe named `df`.\n",
        "\n",
        "(You can explore the data if you want, but it's not required to pass the Sprint Challenge.)"
      ]
    },
    {
      "cell_type": "code",
      "metadata": {
        "id": "tYujbhIz9zKU",
        "colab_type": "code",
        "colab": {}
      },
      "source": [
        "%matplotlib inline\n",
        "import matplotlib.pyplot as plt\n",
        "import numpy as np\n",
        "import pandas as pd\n",
        "\n",
        "url = 'https://raw.githubusercontent.com/fivethirtyeight/data/master/daily-show-guests/daily_show_guests.csv'\n",
        "df = pd.read_csv(url).rename(columns={'YEAR': 'Year', 'Raw_Guest_List': 'Guest'})\n",
        "\n",
        "def get_occupation(group):\n",
        "    if group in ['Acting', 'Comedy', 'Musician']:\n",
        "        return 'Acting, Comedy & Music'\n",
        "    elif group in ['Media', 'media']:\n",
        "        return 'Media'\n",
        "    elif group in ['Government', 'Politician', 'Political Aide']:\n",
        "        return 'Government and Politics'\n",
        "    else:\n",
        "        return 'Other'\n",
        "      \n",
        "df['Occupation'] = df['Group'].apply(get_occupation)"
      ],
      "execution_count": 0,
      "outputs": []
    },
    {
      "cell_type": "code",
      "metadata": {
        "id": "p3gp1XHrO2jE",
        "colab_type": "code",
        "outputId": "fe790fef-b13f-43f0-a1d6-fe02c5400bf9",
        "colab": {
          "base_uri": "https://localhost:8080/",
          "height": 158
        }
      },
      "source": [
        "shape(df)"
      ],
      "execution_count": 0,
      "outputs": [
        {
          "output_type": "error",
          "ename": "NameError",
          "evalue": "ignored",
          "traceback": [
            "\u001b[0;31m---------------------------------------------------------------------------\u001b[0m",
            "\u001b[0;31mNameError\u001b[0m                                 Traceback (most recent call last)",
            "\u001b[0;32m<ipython-input-55-656450797b1a>\u001b[0m in \u001b[0;36m<module>\u001b[0;34m()\u001b[0m\n\u001b[0;32m----> 1\u001b[0;31m \u001b[0mshape\u001b[0m\u001b[0;34m(\u001b[0m\u001b[0mdf\u001b[0m\u001b[0;34m)\u001b[0m\u001b[0;34m\u001b[0m\u001b[0;34m\u001b[0m\u001b[0m\n\u001b[0m",
            "\u001b[0;31mNameError\u001b[0m: name 'shape' is not defined"
          ]
        }
      ]
    },
    {
      "cell_type": "markdown",
      "metadata": {
        "id": "5hjnMK3j90Rp",
        "colab_type": "text"
      },
      "source": [
        "### Part 1 — What's the breakdown of guests’ occupations per year?\n",
        "\n",
        "For example, in 1999, what percentage of guests were actors, comedians, or musicians? What percentage were in the media? What percentage were in politics? What percentage were from another occupation?\n",
        "\n",
        "Then, what about in 2000? In 2001? And so on, up through 2015.\n",
        "\n",
        "So, **for each year of _The Daily Show_, calculate the percentage of guests from each occupation:**\n",
        "- Acting, Comedy & Music\n",
        "- Government and Politics\n",
        "- Media\n",
        "- Other\n",
        "\n",
        "#### Hints:\n",
        "You can make a crosstab. (See pandas documentation for examples, explanation, and parameters.)\n",
        "\n",
        "You'll know you've calculated correctly when the percentage of \"Acting, Comedy & Music\" guests is 90.36% in 1999, and 45% in 2015."
      ]
    },
    {
      "cell_type": "code",
      "metadata": {
        "id": "EbobyiHv916F",
        "colab_type": "code",
        "colab": {}
      },
      "source": [
        ""
      ],
      "execution_count": 0,
      "outputs": []
    },
    {
      "cell_type": "markdown",
      "metadata": {
        "id": "Kiq56dZb92LY",
        "colab_type": "text"
      },
      "source": [
        "### Part 2 — Recreate this explanatory visualization:"
      ]
    },
    {
      "cell_type": "code",
      "metadata": {
        "id": "HKLDMWwP98vz",
        "colab_type": "code",
        "outputId": "83710628-26b6-4f4e-f4f6-e54b30b29f64",
        "colab": {
          "base_uri": "https://localhost:8080/",
          "height": 406
        }
      },
      "source": [
        "from IPython.display import display, Image\n",
        "png = 'https://fivethirtyeight.com/wp-content/uploads/2015/08/hickey-datalab-dailyshow.png'\n",
        "example = Image(png, width=500)\n",
        "display(example)"
      ],
      "execution_count": 0,
      "outputs": [
        {
          "output_type": "display_data",
          "data": {
            "image/png": "[encoded data removed]",
            "text/plain": [
              "<IPython.core.display.Image object>"
            ]
          },
          "metadata": {
            "tags": [],
            "image/png": {
              "width": 500
            }
          }
        }
      ]
    },
    {
      "cell_type": "markdown",
      "metadata": {
        "id": "TK5fDIag9-F6",
        "colab_type": "text"
      },
      "source": [
        "**Hints:**\n",
        "- You can choose any Python visualization library you want. I've verified the plot can be reproduced with matplotlib, pandas plot, or seaborn. I assume other libraries like altair or plotly would work too.\n",
        "- If you choose to use seaborn, you may want to upgrade the version to 0.9.0.\n",
        "\n",
        "**Expectations:** Your plot should include:\n",
        "- 3 lines visualizing \"occupation of guests, by year.\" The shapes of the lines should look roughly identical to 538's example. Each line should be a different color. (But you don't need to use the _same_ colors as 538.)\n",
        "- Legend or labels for the lines. (But you don't need each label positioned next to its line or colored like 538.)\n",
        "- Title in the upper left: _\"Who Got To Be On 'The Daily Show'?\"_ with more visual emphasis than the subtitle. (Bolder and/or larger font.)\n",
        "- Subtitle underneath the title: _\"Occupation of guests, by year\"_\n",
        "\n",
        "**Optional Bonus Challenge:**\n",
        "- Give your plot polished aesthetics, with improved resemblance to the 538 example.\n",
        "- Any visual element not specifically mentioned in the expectations is an optional bonus."
      ]
    },
    {
      "cell_type": "code",
      "metadata": {
        "id": "CaB8MMV099Kh",
        "colab_type": "code",
        "colab": {}
      },
      "source": [
        "%matplotlib inline\n",
        "import matplotlib.pyplot as plt\n",
        "import seaborn; seaborn.set()"
      ],
      "execution_count": 0,
      "outputs": []
    }
  ]
}