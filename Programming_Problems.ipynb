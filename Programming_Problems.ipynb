{
  "nbformat": 4,
  "nbformat_minor": 0,
  "metadata": {
    "colab": {
      "name": "Programming Problems.ipynb",
      "provenance": [],
      "include_colab_link": true
    },
    "kernelspec": {
      "name": "python3",
      "display_name": "Python 3"
    }
  },
  "cells": [
    {
      "cell_type": "markdown",
      "metadata": {
        "id": "view-in-github",
        "colab_type": "text"
      },
      "source": [
        "<a href=\"https://colab.research.google.com/github/robmeka/DS-Unit-1-Sprint-1-Dealing-With-Data/blob/master/Programming_Problems.ipynb\" target=\"_parent\"><img src=\"https://colab.research.google.com/assets/colab-badge.svg\" alt=\"Open In Colab\"/></a>"
      ]
    },
    {
      "cell_type": "markdown",
      "metadata": {
        "id": "iW6dE_U4BYut",
        "colab_type": "text"
      },
      "source": [
        "# Intro\n",
        "Below are a series of code challenges for you to work through. Some of them may be difficult and some of them may be simple but they all serve a purpose. By the end you should have exposure to a lot of the fundamentals of Python while also getting in practice with breaking down problems programmtically and then translating it to code.\n",
        "\n",
        "Like we discussed, focus on breaking everything into small steps, solving those steps, and then putting it all back together. If you end up using google to help you solve something that's ok but try to use it more for the small steps. For instance, if you wanted to see if the first half of a string was the same as the second half, don't google the whole problem. Instead, you might search for how to split a string or how to compare two strings. If you do hit a brick wall and need to just see how it's done, that is ok as long as you gave the problem an honest try. In those cases, make note that you did so so we can figure out what the block was. \n",
        "\n",
        "In all of the coding below (whether it is your work or copy and paste), use comments (`#`) to explain what is happening in the code. It reinforces the coding you did to explain in plain English what is going on.\n",
        "\n",
        "Finally, some of the code challenges reference writing a function. Functions make your code reusable and you'll need to learn them eventually. So, if you feel up for it I encourage you to practice placing your solutions in functions but it isn't the main thing I'm looking for.  If you do try functions, I've included a link to a notebook explaining them and for loops in more depth. Either way, good code is reusable so avoid answers that would be difficult to scale. For example, if I ask you to print the numbers 1 to 5, `print('1 2 3 4 5')` might work but you wouldn't want to scale that to print the numbers 1 to a million.\n",
        "\n",
        "When you are done, reach out to me and we will continue you on with getting you on track."
      ]
    },
    {
      "cell_type": "markdown",
      "metadata": {
        "id": "NvfHAw_MD8UO",
        "colab_type": "text"
      },
      "source": [
        "# Resources\n",
        "- **Your TL, SL, myself**: Reach out to us if you get stuck, we can nudge you along without giving you the answers\n",
        "- **Google, StackOverflow, and Python Documentation**: Everyone gets stuck or comes across something they don't know, learn to embrace it because searching for answers is a big part of programming.\n",
        "- [For Loop and Functions Notebook](https://colab.research.google.com/drive/18pIL5tjuVUKsoY7PmE4I9JN5awJttqbL)\n",
        "- [Article About Breaking Down Problems For Programming](https://medium.com/@bundickm/the-way-of-the-rubber-duck-9669eac3c27a)"
      ]
    },
    {
      "cell_type": "markdown",
      "metadata": {
        "id": "mYFuv_nYBa2l",
        "colab_type": "text"
      },
      "source": [
        "# Variable Types\n",
        "\n",
        "Define the following variable types\n",
        "- int\n",
        "- float\n",
        "- boolean\n",
        "- char\n",
        "- string\n",
        "- list\n",
        "- dictionary"
      ]
    },
    {
      "cell_type": "code",
      "metadata": {
        "id": "_OUFntqaCnuw",
        "colab_type": "code",
        "colab": {}
      },
      "source": [
        ""
      ],
      "execution_count": 0,
      "outputs": []
    },
    {
      "cell_type": "markdown",
      "metadata": {
        "id": "_-qgRZ8_Bze3",
        "colab_type": "text"
      },
      "source": [
        "Given an integer `n`, convert it to a float"
      ]
    },
    {
      "cell_type": "code",
      "metadata": {
        "id": "j3I-sgEUBTHu",
        "colab_type": "code",
        "colab": {}
      },
      "source": [
        ""
      ],
      "execution_count": 0,
      "outputs": []
    },
    {
      "cell_type": "markdown",
      "metadata": {
        "id": "S011ipv4CPAI",
        "colab_type": "text"
      },
      "source": [
        "Given a float `n`, convert it to a string."
      ]
    },
    {
      "cell_type": "code",
      "metadata": {
        "id": "EMnpCfaRCXwG",
        "colab_type": "code",
        "colab": {}
      },
      "source": [
        ""
      ],
      "execution_count": 0,
      "outputs": []
    },
    {
      "cell_type": "markdown",
      "metadata": {
        "id": "SEbCyfBYCZuQ",
        "colab_type": "text"
      },
      "source": [
        "Converting from one variable type to another has a name, what is it?"
      ]
    },
    {
      "cell_type": "code",
      "metadata": {
        "id": "nazXwtr2CpBD",
        "colab_type": "code",
        "colab": {}
      },
      "source": [
        ""
      ],
      "execution_count": 0,
      "outputs": []
    },
    {
      "cell_type": "markdown",
      "metadata": {
        "id": "EC4vWedYCvOb",
        "colab_type": "text"
      },
      "source": [
        "Lists, strings, and dictionaries are all considered iterables. What is an iterable?"
      ]
    },
    {
      "cell_type": "code",
      "metadata": {
        "id": "LlyA7FBcC83O",
        "colab_type": "code",
        "colab": {}
      },
      "source": [
        ""
      ],
      "execution_count": 0,
      "outputs": []
    },
    {
      "cell_type": "markdown",
      "metadata": {
        "id": "Ipvivg6LDAqa",
        "colab_type": "text"
      },
      "source": [
        "Create a list of 5 names (choose whatever)"
      ]
    },
    {
      "cell_type": "code",
      "metadata": {
        "id": "06HFL6ikDL4t",
        "colab_type": "code",
        "colab": {}
      },
      "source": [
        ""
      ],
      "execution_count": 0,
      "outputs": []
    },
    {
      "cell_type": "markdown",
      "metadata": {
        "id": "jsVRdcFeDNMa",
        "colab_type": "text"
      },
      "source": [
        "Select the middle value from that list. The way you select the middle value should not care how many names are in the list, so if I add another name to the list the solution still works without changing anything."
      ]
    },
    {
      "cell_type": "code",
      "metadata": {
        "id": "jhY2qqKZDvpN",
        "colab_type": "code",
        "colab": {}
      },
      "source": [
        ""
      ],
      "execution_count": 0,
      "outputs": []
    },
    {
      "cell_type": "markdown",
      "metadata": {
        "id": "9ASxdThaFWeR",
        "colab_type": "text"
      },
      "source": [
        "Select the first 3 names from that list"
      ]
    },
    {
      "cell_type": "code",
      "metadata": {
        "id": "WVCbiCOiFbjT",
        "colab_type": "code",
        "colab": {}
      },
      "source": [
        ""
      ],
      "execution_count": 0,
      "outputs": []
    },
    {
      "cell_type": "markdown",
      "metadata": {
        "id": "fQ1JqSg-D-3o",
        "colab_type": "text"
      },
      "source": [
        "Create a dictionary with 5 names and assign a number to each of those names, one of those numbers should be `999`. \n",
        "\n",
        "With dictionaries, items come in a key:value pair, so for this problem the key should be a name, and the value should be a number."
      ]
    },
    {
      "cell_type": "code",
      "metadata": {
        "id": "EsN96giaEbCE",
        "colab_type": "code",
        "colab": {}
      },
      "source": [
        ""
      ],
      "execution_count": 0,
      "outputs": []
    },
    {
      "cell_type": "markdown",
      "metadata": {
        "id": "qybUL4T3Ei3U",
        "colab_type": "text"
      },
      "source": [
        "From the dictionary above, get the key (the name) associated with the value 999."
      ]
    },
    {
      "cell_type": "code",
      "metadata": {
        "id": "rc61V-ykEu5Z",
        "colab_type": "code",
        "colab": {}
      },
      "source": [
        ""
      ],
      "execution_count": 0,
      "outputs": []
    },
    {
      "cell_type": "markdown",
      "metadata": {
        "id": "CO56cskaE0Lo",
        "colab_type": "text"
      },
      "source": [
        "Given the following string: 'Hello World! How are you?'\n",
        "\n",
        "Complete the following tasks:\n",
        "- Make the string lowercase\n",
        "- Find at what index values the substring 'World!' starts and stops at\n",
        "- Reverse the order of the string so it starts with '?uoy' and ends with 'olleH'\n",
        "- Replace the substring 'World!' with your name"
      ]
    },
    {
      "cell_type": "code",
      "metadata": {
        "id": "6yxlYqR_FFse",
        "colab_type": "code",
        "colab": {}
      },
      "source": [
        ""
      ],
      "execution_count": 0,
      "outputs": []
    },
    {
      "cell_type": "markdown",
      "metadata": {
        "id": "qtuBD3BdGT97",
        "colab_type": "text"
      },
      "source": [
        "Copy and paste the link for the official documentation on boolean operations"
      ]
    },
    {
      "cell_type": "code",
      "metadata": {
        "id": "8KErCO-kGgSR",
        "colab_type": "code",
        "colab": {}
      },
      "source": [
        ""
      ],
      "execution_count": 0,
      "outputs": []
    },
    {
      "cell_type": "markdown",
      "metadata": {
        "id": "U4vyzXnvGg3u",
        "colab_type": "text"
      },
      "source": [
        "What are three comparison operators?"
      ]
    },
    {
      "cell_type": "code",
      "metadata": {
        "id": "LzrdGyUIGoW7",
        "colab_type": "code",
        "colab": {}
      },
      "source": [
        ""
      ],
      "execution_count": 0,
      "outputs": []
    },
    {
      "cell_type": "markdown",
      "metadata": {
        "id": "S3cmXu4pGrFp",
        "colab_type": "text"
      },
      "source": [
        "Write a comparison of 2 numbers that evaluates as `True`"
      ]
    },
    {
      "cell_type": "code",
      "metadata": {
        "id": "QjFkvwkWG0NW",
        "colab_type": "code",
        "colab": {}
      },
      "source": [
        ""
      ],
      "execution_count": 0,
      "outputs": []
    },
    {
      "cell_type": "markdown",
      "metadata": {
        "id": "iYX6KywmG-P0",
        "colab_type": "text"
      },
      "source": [
        "- `True and True` Evaluates as True\n",
        "- `True and False` Evaluates as False\n",
        "- `True or False` Evaluates as what?\n",
        "- `not True` Evaluates as what?"
      ]
    },
    {
      "cell_type": "code",
      "metadata": {
        "id": "gombmgHxHWcn",
        "colab_type": "code",
        "colab": {}
      },
      "source": [
        ""
      ],
      "execution_count": 0,
      "outputs": []
    },
    {
      "cell_type": "markdown",
      "metadata": {
        "id": "brL-UXmPHlJo",
        "colab_type": "text"
      },
      "source": [
        "What are three bitwise operators?"
      ]
    },
    {
      "cell_type": "code",
      "metadata": {
        "id": "cEhcs_TeHrag",
        "colab_type": "code",
        "colab": {}
      },
      "source": [
        ""
      ],
      "execution_count": 0,
      "outputs": []
    },
    {
      "cell_type": "markdown",
      "metadata": {
        "id": "KtHsmTewHs_h",
        "colab_type": "text"
      },
      "source": [
        "# For Loops"
      ]
    },
    {
      "cell_type": "markdown",
      "metadata": {
        "id": "gPPWNCkeHwxY",
        "colab_type": "text"
      },
      "source": [
        "Write a for loop to print the numbers 1 to 5"
      ]
    },
    {
      "cell_type": "code",
      "metadata": {
        "id": "Xc1Y7quhHvRu",
        "colab_type": "code",
        "colab": {}
      },
      "source": [
        ""
      ],
      "execution_count": 0,
      "outputs": []
    },
    {
      "cell_type": "markdown",
      "metadata": {
        "id": "0NQTDeFOH63p",
        "colab_type": "text"
      },
      "source": [
        "Write a for loop to print 'Help I'm trapped in a computer!' 3 times"
      ]
    },
    {
      "cell_type": "code",
      "metadata": {
        "id": "Y6ZqT3bkIGGl",
        "colab_type": "code",
        "colab": {}
      },
      "source": [
        ""
      ],
      "execution_count": 0,
      "outputs": []
    },
    {
      "cell_type": "markdown",
      "metadata": {
        "id": "sTBhwT1IIIVi",
        "colab_type": "text"
      },
      "source": [
        "Write a for loop to print the numbers 1 to 5 and then once complete print 'All Done!'"
      ]
    },
    {
      "cell_type": "code",
      "metadata": {
        "id": "aSEooeUKIS82",
        "colab_type": "code",
        "colab": {}
      },
      "source": [
        ""
      ],
      "execution_count": 0,
      "outputs": []
    },
    {
      "cell_type": "markdown",
      "metadata": {
        "id": "ZCz-HhE5IThE",
        "colab_type": "text"
      },
      "source": [
        "Given the list: `[5, 4, 3, 2, 6, 9, 10]`\n",
        "\n",
        "Write a for loop to print all the elements in the list."
      ]
    },
    {
      "cell_type": "code",
      "metadata": {
        "id": "16AIpGfzIpfs",
        "colab_type": "code",
        "colab": {}
      },
      "source": [
        ""
      ],
      "execution_count": 0,
      "outputs": []
    },
    {
      "cell_type": "markdown",
      "metadata": {
        "id": "jZZKsT08I1LM",
        "colab_type": "text"
      },
      "source": [
        "Given the lists:\n",
        "- `['a', 'b', 'c']`\n",
        "- `[1, 2, 3]`\n",
        "\n",
        "Print each element of the first list for each time you print the elements of the second list.\n",
        "\n",
        "Example output:\n",
        "```\n",
        "1\n",
        "a\n",
        "b\n",
        "c\n",
        "2\n",
        "a\n",
        "b\n",
        "c\n",
        "3\n",
        "a\n",
        "b\n",
        "c\n",
        "```"
      ]
    },
    {
      "cell_type": "code",
      "metadata": {
        "id": "S2wwfo_wJ6hA",
        "colab_type": "code",
        "colab": {}
      },
      "source": [
        ""
      ],
      "execution_count": 0,
      "outputs": []
    },
    {
      "cell_type": "markdown",
      "metadata": {
        "id": "icUGgteeKAnq",
        "colab_type": "text"
      },
      "source": [
        "# If Statements"
      ]
    },
    {
      "cell_type": "markdown",
      "metadata": {
        "id": "LSfGxT94Kx2m",
        "colab_type": "text"
      },
      "source": [
        "Explain how comparisons are used in if statements"
      ]
    },
    {
      "cell_type": "code",
      "metadata": {
        "id": "yxP_zzDULA8_",
        "colab_type": "code",
        "colab": {}
      },
      "source": [
        ""
      ],
      "execution_count": 0,
      "outputs": []
    },
    {
      "cell_type": "markdown",
      "metadata": {
        "id": "4wykqRkiKEB5",
        "colab_type": "text"
      },
      "source": [
        "Given 2 numbers `m` and `n`, write an if statement that prints 'M is bigger' if `m` is the larger number."
      ]
    },
    {
      "cell_type": "code",
      "metadata": {
        "id": "JS8QIFLqKC7O",
        "colab_type": "code",
        "colab": {}
      },
      "source": [
        ""
      ],
      "execution_count": 0,
      "outputs": []
    },
    {
      "cell_type": "markdown",
      "metadata": {
        "id": "CjId-ZyeKVcH",
        "colab_type": "text"
      },
      "source": [
        "Write an if statement that prints 'M is bigger' if `m` is larger, prints 'N is bigger' if `n` is larger, or prints 'Neither is bigger' if they are both the same size. This should not be three separate if statements."
      ]
    },
    {
      "cell_type": "code",
      "metadata": {
        "id": "xQIlU36LKxH9",
        "colab_type": "code",
        "colab": {}
      },
      "source": [
        ""
      ],
      "execution_count": 0,
      "outputs": []
    },
    {
      "cell_type": "markdown",
      "metadata": {
        "id": "22V2fseaLVaN",
        "colab_type": "text"
      },
      "source": [
        "Given the list: [5, 4, 3, 2, 6, 9, 10]\n",
        "\n",
        "Write a for loop to print all the odd elements in the list.\n"
      ]
    },
    {
      "cell_type": "code",
      "metadata": {
        "id": "6HGgpcFzLcEt",
        "colab_type": "code",
        "colab": {}
      },
      "source": [
        ""
      ],
      "execution_count": 0,
      "outputs": []
    },
    {
      "cell_type": "markdown",
      "metadata": {
        "id": "w8UBL9LtLcq8",
        "colab_type": "text"
      },
      "source": [
        "Given the string: `'abcabcccabababacca'`\n",
        "\n",
        "Write a for loop to print characters that are not `a` or `b`."
      ]
    },
    {
      "cell_type": "code",
      "metadata": {
        "id": "hPGSQZNCLwtn",
        "colab_type": "code",
        "colab": {}
      },
      "source": [
        ""
      ],
      "execution_count": 0,
      "outputs": []
    },
    {
      "cell_type": "markdown",
      "metadata": {
        "id": "7Nwl0uVcL9Pj",
        "colab_type": "text"
      },
      "source": [
        "# Code Challenges"
      ]
    },
    {
      "cell_type": "markdown",
      "metadata": {
        "id": "p3kDhyeAMDXY",
        "colab_type": "text"
      },
      "source": [
        "Given a list `arr`, write a function to return `True` if an elemen `n` is present in the list and `False` if it is not.\n",
        "\n",
        "Example:\n",
        "\n",
        "arr = `[1, 'b', 'hi', 3.5]`\n",
        "\n",
        "n = `3.5`\n",
        "\n",
        "Answer is `True`\n",
        "<br/>\n",
        "<br/>\n",
        "<br/>\n",
        "n = 4\n",
        "\n",
        "Answer is `False`"
      ]
    },
    {
      "cell_type": "code",
      "metadata": {
        "id": "TTHilJhLNFEA",
        "colab_type": "code",
        "colab": {}
      },
      "source": [
        ""
      ],
      "execution_count": 0,
      "outputs": []
    },
    {
      "cell_type": "markdown",
      "metadata": {
        "id": "cQjEdlx9NFrZ",
        "colab_type": "text"
      },
      "source": [
        "Given a string `s`, return a list of the unique characters in the string. The order of the characters in the list does not matter.\n",
        "\n",
        "Example:\n",
        "\n",
        "s = 'hello'\n",
        "\n",
        "Answer: ['h', 'e', 'l', 'o']"
      ]
    },
    {
      "cell_type": "code",
      "metadata": {
        "id": "P_ZeY6KtNcMs",
        "colab_type": "code",
        "colab": {}
      },
      "source": [
        ""
      ],
      "execution_count": 0,
      "outputs": []
    },
    {
      "cell_type": "markdown",
      "metadata": {
        "id": "T-Q0iVu3NfOi",
        "colab_type": "text"
      },
      "source": [
        "Write a function that takes an integer `n` and returns a list of the individual numbers of `n`\n",
        "\n",
        "Example:\n",
        "\n",
        "n = 123\n",
        "\n",
        "Answer: `[1, 2, 3]`"
      ]
    },
    {
      "cell_type": "code",
      "metadata": {
        "id": "a_Mnwmm4N6FT",
        "colab_type": "code",
        "colab": {}
      },
      "source": [
        ""
      ],
      "execution_count": 0,
      "outputs": []
    },
    {
      "cell_type": "markdown",
      "metadata": {
        "id": "Ksx-NcceN6oQ",
        "colab_type": "text"
      },
      "source": [
        "Write a function that prints all the prime numbers below a number `n`"
      ]
    },
    {
      "cell_type": "code",
      "metadata": {
        "id": "SOzl9HbgPUGX",
        "colab_type": "code",
        "colab": {}
      },
      "source": [
        ""
      ],
      "execution_count": 0,
      "outputs": []
    },
    {
      "cell_type": "markdown",
      "metadata": {
        "id": "QsRcTBUFPUgL",
        "colab_type": "text"
      },
      "source": [
        "Write a function that finds the sum of the first `n` numbers in the fibonacci sequence."
      ]
    },
    {
      "cell_type": "code",
      "metadata": {
        "id": "VrktJ7cWPcbA",
        "colab_type": "code",
        "colab": {}
      },
      "source": [
        ""
      ],
      "execution_count": 0,
      "outputs": []
    },
    {
      "cell_type": "markdown",
      "metadata": {
        "id": "P5FnpMbDPgnx",
        "colab_type": "text"
      },
      "source": [
        "Write a function to return `True` if a string is a palindrome, or `False` if it is not"
      ]
    },
    {
      "cell_type": "code",
      "metadata": {
        "id": "_qb7s-4pPoow",
        "colab_type": "code",
        "colab": {}
      },
      "source": [
        ""
      ],
      "execution_count": 0,
      "outputs": []
    }
  ]
}