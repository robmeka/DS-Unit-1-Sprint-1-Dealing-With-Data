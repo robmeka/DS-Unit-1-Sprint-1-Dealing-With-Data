{
  "nbformat": 4,
  "nbformat_minor": 0,
  "metadata": {
    "colab": {
      "name": "For Loops and Functions.ipynb",
      "provenance": [],
      "include_colab_link": true
    },
    "kernelspec": {
      "name": "python3",
      "display_name": "Python 3"
    }
  },
  "cells": [
    {
      "cell_type": "markdown",
      "metadata": {
        "id": "view-in-github",
        "colab_type": "text"
      },
      "source": [
        "<a href=\"https://colab.research.google.com/github/robmeka/DS-Unit-1-Sprint-1-Dealing-With-Data/blob/master/For_Loops_and_Functions.ipynb\" target=\"_parent\"><img src=\"https://colab.research.google.com/assets/colab-badge.svg\" alt=\"Open In Colab\"/></a>"
      ]
    },
    {
      "cell_type": "markdown",
      "metadata": {
        "id": "vBnUBCBV7Jpm",
        "colab_type": "text"
      },
      "source": [
        "# For Loops"
      ]
    },
    {
      "cell_type": "markdown",
      "metadata": {
        "id": "8HQVaRwYeDV9",
        "colab_type": "text"
      },
      "source": [
        "## Basic Loops\n",
        "Python for loops iterate over a items in an iterable object - the most commmon iterables being `list`, `tuple`, `dictionary`, `set`, and `string`. The default behavior for a for loop in Python is actually a for-each loop, meaning \"for each item in this iterable, do something.\""
      ]
    },
    {
      "cell_type": "code",
      "metadata": {
        "id": "EoEiF6yO6zB1",
        "colab_type": "code",
        "outputId": "14fec152-900a-471a-d782-e47693733ea3",
        "colab": {
          "base_uri": "https://localhost:8080/",
          "height": 72
        }
      },
      "source": [
        "arr = ['a','b','c']\n",
        "\n",
        "for item in arr:\n",
        "  print(item)"
      ],
      "execution_count": 0,
      "outputs": [
        {
          "output_type": "stream",
          "text": [
            "a\n",
            "b\n",
            "c\n"
          ],
          "name": "stdout"
        }
      ]
    },
    {
      "cell_type": "code",
      "metadata": {
        "id": "ipreXrqC8EmA",
        "colab_type": "code",
        "outputId": "d5ace23f-9cb0-4a8f-a893-2c8116e9533f",
        "colab": {
          "base_uri": "https://localhost:8080/",
          "height": 72
        }
      },
      "source": [
        "string = 'abc'\n",
        "\n",
        "for char in string:\n",
        "  print(char)"
      ],
      "execution_count": 0,
      "outputs": [
        {
          "output_type": "stream",
          "text": [
            "a\n",
            "b\n",
            "c\n"
          ],
          "name": "stdout"
        }
      ]
    },
    {
      "cell_type": "code",
      "metadata": {
        "id": "43EqDBiM8P9M",
        "colab_type": "code",
        "outputId": "5010cdcb-c34f-45dc-c334-7278f28d3373",
        "colab": {
          "base_uri": "https://localhost:8080/",
          "height": 72
        }
      },
      "source": [
        "dictionary = {'a':1, 'b':2, 'c':3}\n",
        "\n",
        "for key in dictionary:\n",
        "  print(key)"
      ],
      "execution_count": 0,
      "outputs": [
        {
          "output_type": "stream",
          "text": [
            "a\n",
            "b\n",
            "c\n"
          ],
          "name": "stdout"
        }
      ]
    },
    {
      "cell_type": "markdown",
      "metadata": {
        "id": "1R4hEWAUdKxR",
        "colab_type": "text"
      },
      "source": [
        "A for loop can also be used to iterate over a series of numbers. If those numbers need to be referenced but we don't care about the variable we traditionally use `i` over another placeholder like `num`."
      ]
    },
    {
      "cell_type": "code",
      "metadata": {
        "id": "y9GV3P6Bdlql",
        "colab_type": "code",
        "outputId": "8d381fda-b461-488f-b533-0a7b93c6604a",
        "colab": {
          "base_uri": "https://localhost:8080/",
          "height": 72
        }
      },
      "source": [
        "for i in range(3):\n",
        "  print(i)"
      ],
      "execution_count": 0,
      "outputs": [
        {
          "output_type": "stream",
          "text": [
            "0\n",
            "1\n",
            "2\n"
          ],
          "name": "stdout"
        }
      ]
    },
    {
      "cell_type": "markdown",
      "metadata": {
        "id": "Ge6ZG8Hzd1nB",
        "colab_type": "text"
      },
      "source": [
        "Those numbers can be used to reference a location in the iterable."
      ]
    },
    {
      "cell_type": "code",
      "metadata": {
        "id": "jzFP0qAA8cEu",
        "colab_type": "code",
        "outputId": "9170140e-fa09-48ed-80ba-61ad23486c81",
        "colab": {
          "base_uri": "https://localhost:8080/",
          "height": 72
        }
      },
      "source": [
        "for i in range(len(arr)):\n",
        "  print(arr[i])"
      ],
      "execution_count": 0,
      "outputs": [
        {
          "output_type": "stream",
          "text": [
            "0 a\n",
            "1 b\n",
            "2 c\n"
          ],
          "name": "stdout"
        }
      ]
    },
    {
      "cell_type": "markdown",
      "metadata": {
        "id": "moklKFnMxqxn",
        "colab_type": "text"
      },
      "source": [
        "Maybe you don't need to know any of the values of your iterable, in that case, use `_` instead of a variable name or `i`."
      ]
    },
    {
      "cell_type": "code",
      "metadata": {
        "id": "mi3VoYARxp8w",
        "colab_type": "code",
        "outputId": "57521f42-7d7e-4007-c001-8c84a0d21971",
        "colab": {
          "base_uri": "https://localhost:8080/",
          "height": 72
        }
      },
      "source": [
        "for _ in range(3):\n",
        "  print(\"Bock bock, I'm a chicken.\")"
      ],
      "execution_count": 0,
      "outputs": [
        {
          "output_type": "stream",
          "text": [
            "Bock bock, I'm a chicken.\n",
            "Bock bock, I'm a chicken.\n",
            "Bock bock, I'm a chicken.\n"
          ],
          "name": "stdout"
        }
      ]
    },
    {
      "cell_type": "markdown",
      "metadata": {
        "id": "j51AroWdelk4",
        "colab_type": "text"
      },
      "source": [
        "## Break and Continue\n",
        "For loops can be interrupted completely with a `break` statement, or on a single iteration with a `continue` statement. Nothing within the loop below the `break` or `continue` will be executed."
      ]
    },
    {
      "cell_type": "code",
      "metadata": {
        "id": "BTIF_RTidu7K",
        "colab_type": "code",
        "outputId": "aaef75d7-a1b3-40c2-bcce-f4a0966720b2",
        "colab": {
          "base_uri": "https://localhost:8080/",
          "height": 35
        }
      },
      "source": [
        "for i in range(3):\n",
        "  print(i)\n",
        "  break"
      ],
      "execution_count": 0,
      "outputs": [
        {
          "output_type": "stream",
          "text": [
            "0\n"
          ],
          "name": "stdout"
        }
      ]
    },
    {
      "cell_type": "code",
      "metadata": {
        "id": "EA17qvZpe8Qn",
        "colab_type": "code",
        "outputId": "ba3fbb96-79b6-4558-ad01-1598dd35a1ab",
        "colab": {
          "base_uri": "https://localhost:8080/",
          "height": 53
        }
      },
      "source": [
        "for i in range(3):\n",
        "  if i == 1:\n",
        "    continue\n",
        "  print(i)"
      ],
      "execution_count": 0,
      "outputs": [
        {
          "output_type": "stream",
          "text": [
            "0\n",
            "2\n"
          ],
          "name": "stdout"
        }
      ]
    },
    {
      "cell_type": "markdown",
      "metadata": {
        "id": "Js5ohuDMgRDw",
        "colab_type": "text"
      },
      "source": [
        "These statements are useful to prevent unnecessary computation if your conditions are already met. For instance, let's say I want the first number divisible by 3 and 5 under 100. In that case I only need to reach `15` and then exit, no need to check every other number after it."
      ]
    },
    {
      "cell_type": "code",
      "metadata": {
        "id": "WALEO8QeffAR",
        "colab_type": "code",
        "outputId": "12cbbe31-0f29-4cc4-8e05-5d148ff77291",
        "colab": {
          "base_uri": "https://localhost:8080/",
          "height": 35
        }
      },
      "source": [
        "for i in range(1, 100):\n",
        "  if (i % 3 == 0) and (i % 5 == 0):\n",
        "    print(i)\n",
        "    break"
      ],
      "execution_count": 0,
      "outputs": [
        {
          "output_type": "stream",
          "text": [
            "15\n"
          ],
          "name": "stdout"
        }
      ]
    },
    {
      "cell_type": "markdown",
      "metadata": {
        "id": "vgK9c6FUg_lY",
        "colab_type": "text"
      },
      "source": [
        "When interrupting or exiting loops prematurely, it may be helpful to know if the loop executed fully. We could throw up a flag at every break point, that way we know if they are reached but this has a big draw back if there are a lot of break points."
      ]
    },
    {
      "cell_type": "code",
      "metadata": {
        "id": "KvEzdr_hhjbX",
        "colab_type": "code",
        "outputId": "c79ee8af-324a-4260-ffc5-a0ca09fcae82",
        "colab": {
          "base_uri": "https://localhost:8080/",
          "height": 199
        }
      },
      "source": [
        "for i in range(1, 100):\n",
        "  if i*i == 100:\n",
        "    print('break')\n",
        "    break\n",
        "  if (i % 5 == 0) and (i / 22 == 5):\n",
        "    print('break')\n",
        "    break\n",
        "  print(i)"
      ],
      "execution_count": 0,
      "outputs": [
        {
          "output_type": "stream",
          "text": [
            "1\n",
            "2\n",
            "3\n",
            "4\n",
            "5\n",
            "6\n",
            "7\n",
            "8\n",
            "9\n",
            "break\n"
          ],
          "name": "stdout"
        }
      ]
    },
    {
      "cell_type": "markdown",
      "metadata": {
        "id": "V4Ytzn8pihf2",
        "colab_type": "text"
      },
      "source": [
        "The example above is obviously contrived but you get the idea, for every break you would need a flag. Instead, we could use an `else` statement on our for loop to execute code only if the for loop completes fully."
      ]
    },
    {
      "cell_type": "code",
      "metadata": {
        "id": "jQwKXN1xiX6_",
        "colab_type": "code",
        "outputId": "72eff41e-9494-442b-910d-efa4ac650a1e",
        "colab": {
          "base_uri": "https://localhost:8080/",
          "height": 199
        }
      },
      "source": [
        "for i in range(1, 10):\n",
        "  if i*i == 100:\n",
        "    break\n",
        "  if (i % 5 == 0) and (i / 22 == 5):\n",
        "    break\n",
        "  print(i)\n",
        "else:\n",
        "  print('Completed the loop')"
      ],
      "execution_count": 0,
      "outputs": [
        {
          "output_type": "stream",
          "text": [
            "1\n",
            "2\n",
            "3\n",
            "4\n",
            "5\n",
            "6\n",
            "7\n",
            "8\n",
            "9\n",
            "Completed the loop\n"
          ],
          "name": "stdout"
        }
      ]
    },
    {
      "cell_type": "markdown",
      "metadata": {
        "id": "pAK0G_ETju4q",
        "colab_type": "text"
      },
      "source": [
        "## Nested For Loops\n",
        "For loops can contain any code you want, that includes other for loops. This may be helpful if you are comparing two iterables or need to count at different rates. Be careful with nesting for loops though, because the interior loop executes fully for every single tick of the exterior loop. This can add a lot of computational complexity depending on the situation."
      ]
    },
    {
      "cell_type": "code",
      "metadata": {
        "id": "3N5dI85_i_MP",
        "colab_type": "code",
        "outputId": "4cea3690-7ecc-4818-888b-8e8d3204ccda",
        "colab": {
          "base_uri": "https://localhost:8080/",
          "height": 181
        }
      },
      "source": [
        "for i in range(3):\n",
        "  print('i', i)\n",
        "  for j in range(2):\n",
        "    print('j', j)"
      ],
      "execution_count": 0,
      "outputs": [
        {
          "output_type": "stream",
          "text": [
            "i 0\n",
            "j 0\n",
            "j 1\n",
            "i 1\n",
            "j 0\n",
            "j 1\n",
            "i 2\n",
            "j 0\n",
            "j 1\n"
          ],
          "name": "stdout"
        }
      ]
    },
    {
      "cell_type": "code",
      "metadata": {
        "id": "ZjilJZWgkrlV",
        "colab_type": "code",
        "outputId": "91822c18-6493-47eb-b07d-0327a24de8c2",
        "colab": {
          "base_uri": "https://localhost:8080/",
          "height": 126
        }
      },
      "source": [
        "arr_fruit = ['berry', 'apple', 'banana']\n",
        "arr_veg = ['carrot', 'parsnip']\n",
        "\n",
        "for fruit in arr_fruit:\n",
        "  for veg in arr_veg:\n",
        "    if len(veg) > len(fruit):\n",
        "      print(veg)\n",
        "    else:\n",
        "      print(fruit)"
      ],
      "execution_count": 0,
      "outputs": [
        {
          "output_type": "stream",
          "text": [
            "carrot\n",
            "parsnip\n",
            "carrot\n",
            "parsnip\n",
            "banana\n",
            "parsnip\n"
          ],
          "name": "stdout"
        }
      ]
    },
    {
      "cell_type": "markdown",
      "metadata": {
        "id": "i3GOytKUoLo8",
        "colab_type": "text"
      },
      "source": [
        "You can even have the interior loop start where the exterior loop is at."
      ]
    },
    {
      "cell_type": "code",
      "metadata": {
        "id": "V01AA5LKoKsr",
        "colab_type": "code",
        "outputId": "eb66439a-2902-48d5-b518-297dbf6dc2e0",
        "colab": {
          "base_uri": "https://localhost:8080/",
          "height": 235
        }
      },
      "source": [
        "for i in range(3):\n",
        "  for j in range(i,3):\n",
        "    print(j)\n",
        "  print('\\n')"
      ],
      "execution_count": 0,
      "outputs": [
        {
          "output_type": "stream",
          "text": [
            "0\n",
            "1\n",
            "2\n",
            "\n",
            "\n",
            "1\n",
            "2\n",
            "\n",
            "\n",
            "2\n",
            "\n",
            "\n"
          ],
          "name": "stdout"
        }
      ]
    },
    {
      "cell_type": "markdown",
      "metadata": {
        "id": "2WLYeuSwl8na",
        "colab_type": "text"
      },
      "source": [
        "## Enumerate\n",
        "Sometimes you may want to loop through an iterable but also keep track of how many iterations you have done. You can do this easily with a count variable."
      ]
    },
    {
      "cell_type": "code",
      "metadata": {
        "id": "GJ8DoG2hlXvC",
        "colab_type": "code",
        "outputId": "bbf24e31-d28d-4e86-b107-9877ea15459f",
        "colab": {
          "base_uri": "https://localhost:8080/",
          "height": 72
        }
      },
      "source": [
        "count = 0\n",
        "\n",
        "for fruit in arr_fruit:\n",
        "  print(count, fruit)\n",
        "  count += 1"
      ],
      "execution_count": 0,
      "outputs": [
        {
          "output_type": "stream",
          "text": [
            "0 berry\n",
            "1 apple\n",
            "2 banana\n"
          ],
          "name": "stdout"
        }
      ]
    },
    {
      "cell_type": "markdown",
      "metadata": {
        "id": "NiCWuV3ymry9",
        "colab_type": "text"
      },
      "source": [
        "While that is simple enough, Python knows this is a common task and provides the `enumerate` function. As you can see below, it attaches a count to each item in the array."
      ]
    },
    {
      "cell_type": "code",
      "metadata": {
        "id": "UfBnE7qOmo1r",
        "colab_type": "code",
        "outputId": "7af3bb65-95f5-4d6f-ec9f-9140574dae2e",
        "colab": {
          "base_uri": "https://localhost:8080/",
          "height": 35
        }
      },
      "source": [
        "list(enumerate(arr_fruit))"
      ],
      "execution_count": 0,
      "outputs": [
        {
          "output_type": "execute_result",
          "data": {
            "text/plain": [
              "[(0, 'berry'), (1, 'apple'), (2, 'banana')]"
            ]
          },
          "metadata": {
            "tags": []
          },
          "execution_count": 27
        }
      ]
    },
    {
      "cell_type": "markdown",
      "metadata": {
        "id": "ITagI_M3nZQB",
        "colab_type": "text"
      },
      "source": [
        "We can unpack those items just like we would any tuple."
      ]
    },
    {
      "cell_type": "code",
      "metadata": {
        "id": "KT0keRNdnB4X",
        "colab_type": "code",
        "outputId": "85917929-16b6-49a9-ebfc-64757d507a91",
        "colab": {
          "base_uri": "https://localhost:8080/",
          "height": 53
        }
      },
      "source": [
        "first_fruit_count, first_fruit = list(enumerate(arr_fruit))[0]\n",
        "print(first_fruit_count)\n",
        "print(first_fruit)"
      ],
      "execution_count": 0,
      "outputs": [
        {
          "output_type": "stream",
          "text": [
            "0\n",
            "berry\n"
          ],
          "name": "stdout"
        }
      ]
    },
    {
      "cell_type": "markdown",
      "metadata": {
        "id": "5WZZ4cqNnsej",
        "colab_type": "text"
      },
      "source": [
        "Now lets throw it in a loop where it is much more valuable to us. This saves us from having to initialize and increment another variable, leading to cleaner and easier to maintain code."
      ]
    },
    {
      "cell_type": "code",
      "metadata": {
        "id": "oJJIcySBnrmw",
        "colab_type": "code",
        "outputId": "a5a3285f-de45-482a-bd45-31a184f0c700",
        "colab": {
          "base_uri": "https://localhost:8080/",
          "height": 126
        }
      },
      "source": [
        "for i, fruit in enumerate(arr_fruit):\n",
        "  print(i)\n",
        "  print(fruit)"
      ],
      "execution_count": 0,
      "outputs": [
        {
          "output_type": "stream",
          "text": [
            "0\n",
            "berry\n",
            "1\n",
            "apple\n",
            "2\n",
            "banana\n"
          ],
          "name": "stdout"
        }
      ]
    },
    {
      "cell_type": "markdown",
      "metadata": {
        "id": "CMGZe0JCor7V",
        "colab_type": "text"
      },
      "source": [
        "Just like we did with enumerate we can unpack tuples or dictionaries in a for loop."
      ]
    },
    {
      "cell_type": "code",
      "metadata": {
        "id": "3EvKLr5ZnhaC",
        "colab_type": "code",
        "outputId": "6a9d8fee-07ac-497d-8755-e8fbc7eecba4",
        "colab": {
          "base_uri": "https://localhost:8080/",
          "height": 72
        }
      },
      "source": [
        "dictionary = {'a':1, 'b':2, 'c':3}\n",
        "\n",
        "for key, value in dictionary.items():\n",
        "  print(key,':',value)"
      ],
      "execution_count": 0,
      "outputs": [
        {
          "output_type": "stream",
          "text": [
            "a : 1\n",
            "b : 2\n",
            "c : 3\n"
          ],
          "name": "stdout"
        }
      ]
    },
    {
      "cell_type": "markdown",
      "metadata": {
        "id": "u3gZQG0kpiUH",
        "colab_type": "text"
      },
      "source": [
        "## List Comprehensions\n",
        "Sometimes a programming design pattern becomes common enough to warrant its own special syntax. Python’s list comprehensions are a prime example of such a syntactic sugar. List comprehensions are a tool for transforming one list (any iterable actually) into another list.\n",
        "\n",
        "I can't explain this as well as Trey Hunner, so go [here](https://treyhunner.com/2015/12/python-list-comprehensions-now-in-color/) to learn about list comprehensions. They can't do anything different from a normal for loop, but they do make lists in a cleaner neater package and you should know how to use them."
      ]
    },
    {
      "cell_type": "code",
      "metadata": {
        "id": "dTUXC5LlpK0m",
        "colab_type": "code",
        "outputId": "50bf3c25-99ca-4a41-e267-4897b58980ef",
        "colab": {
          "base_uri": "https://localhost:8080/",
          "height": 35
        }
      },
      "source": [
        "arr = [1, 2, 3]\n",
        "arr_doubled = []\n",
        "\n",
        "for num in arr:\n",
        "  arr_doubled.append(num*2)\n",
        "\n",
        "arr_doubled"
      ],
      "execution_count": 0,
      "outputs": [
        {
          "output_type": "execute_result",
          "data": {
            "text/plain": [
              "[2, 4, 6]"
            ]
          },
          "metadata": {
            "tags": []
          },
          "execution_count": 38
        }
      ]
    },
    {
      "cell_type": "code",
      "metadata": {
        "id": "ms3YVg0trg53",
        "colab_type": "code",
        "outputId": "07f0b702-8e16-4872-ac80-b20810afb8b1",
        "colab": {
          "base_uri": "https://localhost:8080/",
          "height": 35
        }
      },
      "source": [
        "arr_doubled = [num*2 for num in arr]\n",
        "arr_doubled"
      ],
      "execution_count": 0,
      "outputs": [
        {
          "output_type": "execute_result",
          "data": {
            "text/plain": [
              "[2, 4, 6]"
            ]
          },
          "metadata": {
            "tags": []
          },
          "execution_count": 39
        }
      ]
    },
    {
      "cell_type": "markdown",
      "metadata": {
        "id": "AeheSK0gp7fb",
        "colab_type": "text"
      },
      "source": [
        "## Map, Zip, Reduce\n",
        "\n",
        "Map, zip, and reduce are three very powerful functions in programming and show up a lot with loops or in place of a loop."
      ]
    },
    {
      "cell_type": "markdown",
      "metadata": {
        "id": "zjLTGLH3tn0I",
        "colab_type": "text"
      },
      "source": [
        "### Map\n",
        "The map function applies a function to each item in a list and then returns a list. Depending on what you are doing this may very well replace a list comprehension, but it can also be used in a more complex for loop."
      ]
    },
    {
      "cell_type": "code",
      "metadata": {
        "id": "TtvFawPptnBo",
        "colab_type": "code",
        "outputId": "4f545317-5bfa-4d70-830a-d096fbd12309",
        "colab": {
          "base_uri": "https://localhost:8080/",
          "height": 35
        }
      },
      "source": [
        "def double(n):\n",
        "  return n*2\n",
        "\n",
        "arr = [1, 2, 3]\n",
        "\n",
        "list(map(double, arr))"
      ],
      "execution_count": 0,
      "outputs": [
        {
          "output_type": "execute_result",
          "data": {
            "text/plain": [
              "[2, 4, 6]"
            ]
          },
          "metadata": {
            "tags": []
          },
          "execution_count": 47
        }
      ]
    },
    {
      "cell_type": "code",
      "metadata": {
        "id": "w7w6FMoTujbk",
        "colab_type": "code",
        "outputId": "7955280a-8199-4879-878d-344511e1e8e9",
        "colab": {
          "base_uri": "https://localhost:8080/",
          "height": 72
        }
      },
      "source": [
        "for i in map(double, arr):\n",
        "  print(i)  "
      ],
      "execution_count": 0,
      "outputs": [
        {
          "output_type": "stream",
          "text": [
            "2\n",
            "4\n",
            "6\n"
          ],
          "name": "stdout"
        }
      ]
    },
    {
      "cell_type": "markdown",
      "metadata": {
        "id": "FoX-4yhtsxbO",
        "colab_type": "text"
      },
      "source": [
        "### Zip\n",
        "Zip will take multiple iterables and package them into a single package. If the iterables are uneven length, then it will stop when it reaches the end of the shortest iterable."
      ]
    },
    {
      "cell_type": "code",
      "metadata": {
        "id": "oo5sDsCtr8eO",
        "colab_type": "code",
        "outputId": "984b73f5-32fe-45e9-b201-8245a8132206",
        "colab": {
          "base_uri": "https://localhost:8080/",
          "height": 35
        }
      },
      "source": [
        "num = [1, 2, 3] \n",
        "color = ['red', 'while', 'black'] \n",
        "value = [255, 256] \n",
        "\n",
        "list(zip(num, color, value))"
      ],
      "execution_count": 0,
      "outputs": [
        {
          "output_type": "execute_result",
          "data": {
            "text/plain": [
              "[(1, 'red', 255), (2, 'while', 256)]"
            ]
          },
          "metadata": {
            "tags": []
          },
          "execution_count": 45
        }
      ]
    },
    {
      "cell_type": "markdown",
      "metadata": {
        "id": "Uzhr3rvGtM9W",
        "colab_type": "text"
      },
      "source": [
        "We can then use these zipped up lists to iterate over multiple lists at the exact same time."
      ]
    },
    {
      "cell_type": "code",
      "metadata": {
        "id": "rhWTyIFsrzRD",
        "colab_type": "code",
        "outputId": "d821880a-962b-4ed9-9029-10ff6f263658",
        "colab": {
          "base_uri": "https://localhost:8080/",
          "height": 53
        }
      },
      "source": [
        "for (a, b, c) in zip(num, color, value): \n",
        "     print (a, b, c )"
      ],
      "execution_count": 0,
      "outputs": [
        {
          "output_type": "stream",
          "text": [
            "1 red 255\n",
            "2 while 256\n"
          ],
          "name": "stdout"
        }
      ]
    },
    {
      "cell_type": "markdown",
      "metadata": {
        "id": "62vsSPj7u84Q",
        "colab_type": "text"
      },
      "source": [
        "### Reduce\n",
        "Sometimes you want to bring an iterable down to a single value, this is where the `reduce` function comes in. Like `map` it applies some function to an iterable, but unlike `map`, it returns only a single value."
      ]
    },
    {
      "cell_type": "code",
      "metadata": {
        "id": "0K66ISQasatU",
        "colab_type": "code",
        "outputId": "23f69d2a-a1fe-409b-e528-9371ae1f6633",
        "colab": {
          "base_uri": "https://localhost:8080/",
          "height": 35
        }
      },
      "source": [
        "from functools import reduce\n",
        "\n",
        "arr = [1, 1, 2, 3]\n",
        "\n",
        "def summation(a, b):\n",
        "  return a+b\n",
        "\n",
        "reduce(summation, arr)"
      ],
      "execution_count": 0,
      "outputs": [
        {
          "output_type": "execute_result",
          "data": {
            "text/plain": [
              "7"
            ]
          },
          "metadata": {
            "tags": []
          },
          "execution_count": 52
        }
      ]
    },
    {
      "cell_type": "markdown",
      "metadata": {
        "id": "OUS0QCf2whGA",
        "colab_type": "text"
      },
      "source": [
        "# Functions\n"
      ]
    },
    {
      "cell_type": "markdown",
      "metadata": {
        "id": "sWNKoOr37-kL",
        "colab_type": "text"
      },
      "source": [
        "\"Good code is DRY code.\" What does it mean? \"Don't repeat yourself\". If you find yourself copying and pasting code within a single notebook or script, you should probably stop and ask yourself if there is a cleaner, easier way to do it. The answer is likely \"yes\", a function.\n",
        "\n",
        "A basic function has a few key parts:\n",
        "- `def`: declares you are beginning a function\n",
        "- \\<function name>: Name your function so you can reference it later.\n",
        "- \\<parameters>: These aren't required but often a function is performing some sort of action on variables given to it, this is where you declare these. Since Python has dynamic variables, you can't easily require a certain variable type for a parameter. This means you could pass a function a list when it is expecting an integer.\n",
        "- \\<the body>: Do something, this is your repeated code. Not technically required but why would you make empty functions?\n",
        "- `return`: Generally at the end of the function but indicates a value to be passed back to the main program\n",
        "\n",
        "<br/>\n",
        "A dummy function:\n",
        "\n",
        "```python\n",
        "def a_function(param1, param2, param3):\n",
        "  another_var = param1 + param2 + param3\n",
        "  return another_var\n",
        "```\n",
        "\n",
        "You call a created function just like you would any native function, by using its name and passing it the required variables."
      ]
    },
    {
      "cell_type": "code",
      "metadata": {
        "id": "-yUyCoOT47Ik",
        "colab_type": "code",
        "outputId": "a5cdac5f-b11b-4b57-d38e-f679efb1f95e",
        "colab": {
          "base_uri": "https://localhost:8080/",
          "height": 126
        }
      },
      "source": [
        "#WET code\n",
        "print('chicken')\n",
        "print(2+3)\n",
        "\n",
        "print(3+5)\n",
        "print('chicken')\n",
        "\n",
        "print('chicken')\n",
        "print(5+10)"
      ],
      "execution_count": 0,
      "outputs": [
        {
          "output_type": "stream",
          "text": [
            "chicken\n",
            "5\n",
            "8\n",
            "chicken\n",
            "chicken\n",
            "15\n"
          ],
          "name": "stdout"
        }
      ]
    },
    {
      "cell_type": "code",
      "metadata": {
        "id": "Cf61Zwb74RHd",
        "colab_type": "code",
        "outputId": "7cb405c9-f0bd-43cd-a156-afc9dd132ccc",
        "colab": {
          "base_uri": "https://localhost:8080/",
          "height": 35
        }
      },
      "source": [
        "def print_chicken():\n",
        "  print(\"chicken\")\n",
        "\n",
        "print_chicken()"
      ],
      "execution_count": 0,
      "outputs": [
        {
          "output_type": "stream",
          "text": [
            "chicken\n"
          ],
          "name": "stdout"
        }
      ]
    },
    {
      "cell_type": "code",
      "metadata": {
        "id": "uNCnI6qhwip6",
        "colab_type": "code",
        "outputId": "89f76f5a-63d7-48cb-d06b-5b0951f3abe1",
        "colab": {
          "base_uri": "https://localhost:8080/",
          "height": 35
        }
      },
      "source": [
        "#python already has addition operators and functions, this is just for a simple example purpose\n",
        "def add(a, b):\n",
        "  return a+b\n",
        "\n",
        "add(1, 2)"
      ],
      "execution_count": 0,
      "outputs": [
        {
          "output_type": "execute_result",
          "data": {
            "text/plain": [
              "3"
            ]
          },
          "metadata": {
            "tags": []
          },
          "execution_count": 54
        }
      ]
    },
    {
      "cell_type": "markdown",
      "metadata": {
        "id": "ggyQIS0n0Ese",
        "colab_type": "text"
      },
      "source": [
        "Let's say you never want your function to fail just because the user didn't pass a parameter. Simple, declare the value of some or all of the parameters in advance."
      ]
    },
    {
      "cell_type": "code",
      "metadata": {
        "id": "8ET-HoEl0EH2",
        "colab_type": "code",
        "outputId": "edd79754-7f6f-4f4e-c347-814dcf23881b",
        "colab": {
          "base_uri": "https://localhost:8080/",
          "height": 172
        }
      },
      "source": [
        "#Oh No!\n",
        "add()"
      ],
      "execution_count": 0,
      "outputs": [
        {
          "output_type": "error",
          "ename": "TypeError",
          "evalue": "ignored",
          "traceback": [
            "\u001b[0;31m---------------------------------------------------------------------------\u001b[0m",
            "\u001b[0;31mTypeError\u001b[0m                                 Traceback (most recent call last)",
            "\u001b[0;32m<ipython-input-55-d5d29de3ed94>\u001b[0m in \u001b[0;36m<module>\u001b[0;34m()\u001b[0m\n\u001b[0;32m----> 1\u001b[0;31m \u001b[0madd\u001b[0m\u001b[0;34m(\u001b[0m\u001b[0;34m)\u001b[0m\u001b[0;34m\u001b[0m\u001b[0;34m\u001b[0m\u001b[0m\n\u001b[0m",
            "\u001b[0;31mTypeError\u001b[0m: add() missing 2 required positional arguments: 'a' and 'b'"
          ]
        }
      ]
    },
    {
      "cell_type": "markdown",
      "metadata": {
        "id": "_tpLqf3w0vgw",
        "colab_type": "text"
      },
      "source": [
        "This is nice, especially if you have expected default behavior (such as the line color on a graph being blue)."
      ]
    },
    {
      "cell_type": "code",
      "metadata": {
        "id": "deNcrqm6z3r4",
        "colab_type": "code",
        "outputId": "e2a20e02-c85d-46e6-b7fe-7d169d61567b",
        "colab": {
          "base_uri": "https://localhost:8080/",
          "height": 35
        }
      },
      "source": [
        "def add(a=0, b=0):\n",
        "  return a+b\n",
        "\n",
        "add()"
      ],
      "execution_count": 0,
      "outputs": [
        {
          "output_type": "execute_result",
          "data": {
            "text/plain": [
              "0"
            ]
          },
          "metadata": {
            "tags": []
          },
          "execution_count": 57
        }
      ]
    },
    {
      "cell_type": "markdown",
      "metadata": {
        "id": "2jjeeUK11Kox",
        "colab_type": "text"
      },
      "source": [
        "The problem we run into is what if we don't have default behavior we expect, and don't want to return a nasty error message? Simplest way is to use a dummy/flag value, and if your variable equals it then do something. Just make sure your dummy/flag value isn't something that might have a chance to be passed."
      ]
    },
    {
      "cell_type": "code",
      "metadata": {
        "id": "pGp9CjLL0pHB",
        "colab_type": "code",
        "outputId": "f1dbffc5-3514-403a-9238-650b609216b6",
        "colab": {
          "base_uri": "https://localhost:8080/",
          "height": 35
        }
      },
      "source": [
        "def add(a=None, b=None):\n",
        "  if (a == None) or (b == None):\n",
        "    return 'Must have a numeric value for both a and b'\n",
        "  return a+b\n",
        "\n",
        "add(1,1)"
      ],
      "execution_count": 0,
      "outputs": [
        {
          "output_type": "execute_result",
          "data": {
            "text/plain": [
              "2"
            ]
          },
          "metadata": {
            "tags": []
          },
          "execution_count": 59
        }
      ]
    },
    {
      "cell_type": "code",
      "metadata": {
        "id": "epWJAPiN2NrR",
        "colab_type": "code",
        "outputId": "db02dad4-3f46-4b36-b24e-a262468fea1b",
        "colab": {
          "base_uri": "https://localhost:8080/",
          "height": 35
        }
      },
      "source": [
        "add()"
      ],
      "execution_count": 0,
      "outputs": [
        {
          "output_type": "execute_result",
          "data": {
            "text/plain": [
              "'Must have a numeric value for both a and b'"
            ]
          },
          "metadata": {
            "tags": []
          },
          "execution_count": 60
        }
      ]
    },
    {
      "cell_type": "markdown",
      "metadata": {
        "id": "GvK8FIo48t28",
        "colab_type": "text"
      },
      "source": [
        "If you do not know how many arguments that will be passed into your function, add a * before the parameter name in the function definition.\n",
        "\n",
        "This way the function will receive a tuple of arguments, and can access the items accordingly:"
      ]
    },
    {
      "cell_type": "code",
      "metadata": {
        "id": "GBnDAXlp8yDx",
        "colab_type": "code",
        "outputId": "641f8200-1412-4337-8c0b-3ee4254cb0c2",
        "colab": {
          "base_uri": "https://localhost:8080/",
          "height": 35
        }
      },
      "source": [
        "def my_function(*kids):\n",
        "  print(\"The youngest child is \" + kids[-1])\n",
        "\n",
        "my_function(\"Emil\", \"Tobias\", \"Linus\")"
      ],
      "execution_count": 0,
      "outputs": [
        {
          "output_type": "stream",
          "text": [
            "The youngest child is Linus\n"
          ],
          "name": "stdout"
        }
      ]
    },
    {
      "cell_type": "markdown",
      "metadata": {
        "id": "2FdrAqnS2ZG6",
        "colab_type": "text"
      },
      "source": [
        "Functions can be as complicated or as simple as you want, but a good rule of thumb is they should only do one thing. If you have multiple things that need to be done in a function before a final output can be reached, see if you can't break the steps into other functions"
      ]
    },
    {
      "cell_type": "code",
      "metadata": {
        "id": "humURIdJ2Rh5",
        "colab_type": "code",
        "colab": {}
      },
      "source": [
        "def add_or_mult(a, b, oper='add'):\n",
        "  if oper == 'add':\n",
        "    return a+b\n",
        "  return a*b"
      ],
      "execution_count": 0,
      "outputs": []
    },
    {
      "cell_type": "code",
      "metadata": {
        "id": "Icw0amuC3II7",
        "colab_type": "code",
        "colab": {}
      },
      "source": [
        "def add(a, b):\n",
        "  return a+b\n",
        "\n",
        "def mult(a, b):\n",
        "  return a*b\n",
        "\n",
        "def add_or_mult(a, b, oper='add'):\n",
        "  if oper == 'add':\n",
        "    return add(a, b)\n",
        "  return mult(a, b)"
      ],
      "execution_count": 0,
      "outputs": []
    },
    {
      "cell_type": "markdown",
      "metadata": {
        "id": "bCBDeBeT3lr7",
        "colab_type": "text"
      },
      "source": [
        "For such simple functions like above this may seem unneccesary but it's a good habit to get into. Once you get into more  complicated functions it becomes really easy to get lost in a nest of code. Small, single task functions make everything more readable, testable, and cleaner.\n",
        "\n",
        "In addition to calling other functions, functions can call themselves. This is called \"recursion\".\n",
        "You can also have single use functions called \"lambda functions\". I'm not going into either here but they both can be very useful and powerful.\n",
        "\n",
        "Last but not least, you can and should comment your function. For explaining parts of your function, such as what is happening in a loop, use the normal `#` inline comments. But you can also add a comment at the start of your function to tell everyone what it does, for that you want to use the `'''` triple quote comment."
      ]
    },
    {
      "cell_type": "code",
      "metadata": {
        "id": "KLyrFgUK5sf6",
        "colab_type": "code",
        "colab": {}
      },
      "source": [
        "# Bad way to explain a function\n",
        "def add_wrong(a, b):\n",
        "  # Returns the sum of a and b\n",
        "  return a+b"
      ],
      "execution_count": 0,
      "outputs": []
    },
    {
      "cell_type": "code",
      "metadata": {
        "id": "4yb80xR_65S8",
        "colab_type": "code",
        "colab": {}
      },
      "source": [
        "# Correct way\n",
        "def add(a, b):\n",
        "  '''Returns the sum of a and b'''\n",
        "  return a+b"
      ],
      "execution_count": 0,
      "outputs": []
    },
    {
      "cell_type": "markdown",
      "metadata": {
        "id": "xuQHPddN7KaW",
        "colab_type": "text"
      },
      "source": [
        "Why does the comment type matter? Two reasons: it is python convention (\"when in rome...\", see PEP8 for detailed Python style conventions), and because of the help function which returns the triple quote `'''` at the start of a function to help the user understand what the function is supposed to do."
      ]
    },
    {
      "cell_type": "code",
      "metadata": {
        "id": "IKtvVC6q7CVt",
        "colab_type": "code",
        "outputId": "29fc6e7a-04e2-4de8-eacb-4026a4c20482",
        "colab": {
          "base_uri": "https://localhost:8080/",
          "height": 90
        }
      },
      "source": [
        "# Doesn't return the explanatory comment\n",
        "help(add_wrong)"
      ],
      "execution_count": 0,
      "outputs": [
        {
          "output_type": "stream",
          "text": [
            "Help on function add_wrong in module __main__:\n",
            "\n",
            "add_wrong(a, b)\n",
            "\n"
          ],
          "name": "stdout"
        }
      ]
    },
    {
      "cell_type": "code",
      "metadata": {
        "id": "HSlUbnrc7ibE",
        "colab_type": "code",
        "outputId": "658bd58c-7754-4e8d-b50e-22e3ede6bd81",
        "colab": {
          "base_uri": "https://localhost:8080/",
          "height": 108
        }
      },
      "source": [
        "# Returns the explanatory comment\n",
        "help(add)"
      ],
      "execution_count": 0,
      "outputs": [
        {
          "output_type": "stream",
          "text": [
            "Help on function add in module __main__:\n",
            "\n",
            "add(a, b)\n",
            "    Returns the sum of a and b\n",
            "\n"
          ],
          "name": "stdout"
        }
      ]
    },
    {
      "cell_type": "code",
      "metadata": {
        "id": "ybOGV8Er7juZ",
        "colab_type": "code",
        "colab": {}
      },
      "source": [
        ""
      ],
      "execution_count": 0,
      "outputs": []
    }
  ]
}